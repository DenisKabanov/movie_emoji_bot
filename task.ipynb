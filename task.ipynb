{
 "cells": [
  {
   "cell_type": "code",
   "execution_count": null,
   "metadata": {},
   "outputs": [],
   "source": [
    "# !pip install --user numpy==1.26.2\n",
    "# !pip install --user matplotlib==3.6.2\n",
    "# !pip install emoji==2.10.0\n",
    "# !pip install python-dotenv==1.0.1\n",
    "# !pip install selenium==4.17.2\n",
    "# !pip install sentencepiece==0.1.99\n",
    "# !pip install --user datasets==2.17.0\n",
    "# !pip install --user transformers==4.36.0\n",
    "# !pip install evaluate==0.4.1\n",
    "# !pip install sacrebleu==2.4.0\n",
    "# !pip install --user torch==1.13.0+cu117\n",
    "# !pip install accelerate==0.27.2\n",
    "# !pip install text_unidecode==1.3\n",
    "# !pip install nltk==3.8.1\n",
    "# !pip install typing_extensions==4.9.0\n",
    "# !pip install --user spacy==3.5.0\n",
    "# !pip install navec==0.10.0\n",
    "# !pip install tqdm==4.66.1\n",
    "# !pip install pyTelegramBotAPI==4.16.0\n",
    "# !pip install telebot==0.0.5\n",
    "# !pip install pandas==2.1.1"
   ]
  },
  {
   "cell_type": "code",
   "execution_count": 20,
   "metadata": {},
   "outputs": [
    {
     "name": "stdout",
     "output_type": "stream",
     "text": [
      "WARNING:tensorflow:From c:\\Users\\User\\anaconda3\\envs\\gpu\\lib\\site-packages\\keras\\src\\losses.py:2976: The name tf.losses.sparse_softmax_cross_entropy is deprecated. Please use tf.compat.v1.losses.sparse_softmax_cross_entropy instead.\n",
      "\n"
     ]
    }
   ],
   "source": [
    "from selenium import webdriver # для браузера\n",
    "from selenium.webdriver.chrome.service import Service # сервис для запуска Chrome \n",
    "from selenium.webdriver.common.keys import Keys # для отправки запросов\n",
    "from selenium.webdriver.common.by import By # для поиска на странице\n",
    "import time # для работы с временем\n",
    "\n",
    "import re # регулярные выражения для работы с текстом\n",
    "import json # для сохранения файлов\n",
    "import sys # для работы с переменными окружения\n",
    "import numpy as np # для работы с массивами\n",
    "import pandas as pd # для отображения таблиц\n",
    "\n",
    "import torch # для работы с моделями\n",
    "import evaluate # для метрик\n",
    "import matplotlib.pyplot as plt # для построения графиков\n",
    "from tqdm import tqdm # для отслеживания прогресса\n",
    "from datasets import load_dataset, load_from_disk, Dataset, DatasetDict # для работы с датасетом\n",
    "from transformers import AutoTokenizer, T5ForConditionalGeneration, AutoModelForSeq2SeqLM, DataCollatorForSeq2Seq, Seq2SeqTrainingArguments, Seq2SeqTrainer # для работы с моделью (токенизация, обучение...)\n",
    "from huggingface_hub import notebook_login # для отправки модели и датасета на hugging face\n",
    "\n",
    "import emoji # для работы с эмодзи\n",
    "import spacy # для обработки текста (токенизация, лемматизация, тегирование части речи)\n",
    "from nltk.corpus import stopwords # стоп-слова\n",
    "from navec import Navec # для векторизации текста\n",
    "from models.convertation.torchmoji.sentence_tokenizer import SentenceTokenizer # токенизатор для torchMoji\n",
    "from models.convertation.torchmoji.model_def import torchmoji_emojis # модель torchMoji"
   ]
  },
  {
   "cell_type": "markdown",
   "metadata": {},
   "source": [
    "# Шаг 1: сбор датасета для проекта"
   ]
  },
  {
   "cell_type": "markdown",
   "metadata": {},
   "source": [
    "Web драйвер для браузера был скачен с сайта https://googlechromelabs.github.io/chrome-for-testing/ (версия 121.0.6167.161)"
   ]
  },
  {
   "cell_type": "code",
   "execution_count": 6,
   "metadata": {},
   "outputs": [],
   "source": [
    "executable_path = './chromedriver.exe' # путь до запускаемого драйвера\n",
    "service = Service(executable_path=executable_path) # настройки для запуска браузера\n",
    "pages = 5 # число страниц для рассмотрения"
   ]
  },
  {
   "cell_type": "code",
   "execution_count": null,
   "metadata": {},
   "outputs": [],
   "source": [
    "movies = [] # список под фильмы в формате, далее будет более подробно расписано его содержание\n",
    "# [{\n",
    "#   \"title\": название фильма, \n",
    "#   \"description\": описание, \n",
    "#   \"emojis\": транскрипция в эмодзи,\n",
    "#   \"categories\": категории, \n",
    "#   \"year\": год выхода,\n",
    "#   \"directors\": режиссёры, \n",
    "#   \"actors\": известные актёры, \n",
    "#   \"tagline\": слоган,\n",
    "#   \"hint\": подсказка про наличие цифр в названии,\n",
    "#   \"movie_url\": ссылка на страницу фильма\n",
    "#  }, ...\n",
    "# ]"
   ]
  },
  {
   "cell_type": "markdown",
   "metadata": {},
   "source": [
    "Сначала соберём основную информацию о мультфильме (название + ссылка + подсказки для названия)."
   ]
  },
  {
   "cell_type": "code",
   "execution_count": null,
   "metadata": {},
   "outputs": [],
   "source": [
    "driver = webdriver.Chrome(service=service) # запуск браузера\n",
    "driver.get(\"https://www.kinopoisk.ru/\") # открытие страницы (GET запрос)\n",
    "time.sleep(15) # время для введения капчи\n",
    "\n",
    "for page in range(1, pages+1): # идём по числу страниц\n",
    "    url = f\"http://www.kinopoisk.ru/lists/movies/genre--animation/?b=films&sort=votes&page={page}\" # ссылка с указанием страницы\n",
    "    driver.get(url) # открытие страницы (GET запрос)\n",
    "\n",
    "    # for movie in driver.find_elements(\"class name\", \"styles_root__ti07r\"): # находим все элементы, отвечающие за мультфильмы на сайте и проходим по им всем\n",
    "    for movie in driver.find_elements(By.CLASS_NAME, \"styles_root__ti07r\"): # находим все элементы, отвечающие за мультфильмы на сайте и проходим по им всем\n",
    "        try: # так как может попасться рекламный блок\n",
    "            title = movie.find_elements(By.TAG_NAME, \"span\")[0].text # находим название фильма (первый span элемент)\n",
    "        except:\n",
    "            continue # переходим к следующему элементу\n",
    "\n",
    "        hint = [] # подсказка про наличие чисел в названии\n",
    "        for word in re.sub('[^\\w\\s]', '', title).split(): # идём по \"словам\" в названии, в котором удалено всё, что не(^) буква/цифра/_(\\w) и не пробельный символ(\\s)\n",
    "            if word.isdigit(): # если попали на число в названии\n",
    "                hint.append(word) # добавляем \"слово\" (число) в список для подсказок\n",
    "        \n",
    "        movie_url = movie.find_element(By.TAG_NAME, \"a\").get_attribute(\"href\") # получение ссылки на фильм (например: 'https://www.kinopoisk.ru/film/775276/')\n",
    "        \n",
    "        movies.append({\"title\": title, \"description\": None, \"emojis\": None, \"categories\": None, \"year\": None, \"directors\": None, \"actors\": None, \"tagline\": None, \"hint\": hint, \"movie_url\": movie_url}) # добавляем фильм в список с фильмами в виде словаря\n",
    "driver.quit() # закрытие браузера"
   ]
  },
  {
   "cell_type": "code",
   "execution_count": null,
   "metadata": {},
   "outputs": [
    {
     "data": {
      "text/plain": [
       "{'title': 'Шрэк 2',\n",
       " 'description': None,\n",
       " 'emojis': None,\n",
       " 'categories': None,\n",
       " 'year': None,\n",
       " 'directors': None,\n",
       " 'actors': None,\n",
       " 'tagline': None,\n",
       " 'hint': ['2'],\n",
       " 'movie_url': 'https://www.kinopoisk.ru/film/5273/'}"
      ]
     },
     "metadata": {},
     "output_type": "display_data"
    }
   ],
   "source": [
    "movies[15] # пример содержимого списка фильмов после первого прохода"
   ]
  },
  {
   "cell_type": "markdown",
   "metadata": {},
   "source": [
    "Затем пройдём по полученным на первом шаге ссылкам и возьмём подробную информацию о мультфильмах."
   ]
  },
  {
   "cell_type": "code",
   "execution_count": null,
   "metadata": {},
   "outputs": [],
   "source": [
    "driver = webdriver.Chrome(service=service) # запуск браузера\n",
    "\n",
    "driver.get(\"https://www.kinopoisk.ru/\") # открытие страницы (GET запрос)\n",
    "time.sleep(15) # время для введения капчи\n",
    "\n",
    "for movie in movies: # идём по списку фильмов\n",
    "    driver.get(movie[\"movie_url\"]) # открытие страницы фильма (GET запрос)\n",
    "\n",
    "    movie[\"year\"] = driver.find_element(By.XPATH, \"//*[contains(text(), 'Год производства')]\").find_element(By.XPATH, \"following-sibling::*\").text # получаем год\n",
    "\n",
    "    movie[\"tagline\"] = driver.find_element(By.XPATH, \"//*[contains(text(), 'Слоган')]\").find_element(By.XPATH, \"following-sibling::*\").text # получаем слоган\n",
    "\n",
    "    movie[\"description\"] = \"\" # синопсис\n",
    "    for p in driver.find_elements(By.CLASS_NAME, \"styles_paragraph__wEGPz\"): # находим блоки с текстом <p>...</p>\n",
    "        movie[\"description\"] += p.text + \" \" # добавляем их содержимое в синопсис\n",
    "    for p in driver.find_elements(By.CLASS_NAME, \"styles_root__aZJRN\"): # находим блоки с текстом <p>...</p>\n",
    "        movie[\"description\"] += p.text # добавляем их содержимое в синопсис\n",
    "\n",
    "    movie[\"categories\"] = [] # категории\n",
    "    for category in driver.find_element(By.XPATH, \"//*[contains(text(), 'Жанр')]\").find_element(By.XPATH, \"following-sibling::*\").find_element(By.XPATH, \"*[1]\").find_elements(By.TAG_NAME, \"a\"): # находим все элементы, соответствующие категориям (оформлены в виде ссылок)\n",
    "        movie[\"categories\"].append(category.text) # добавляем категорию\n",
    "    \n",
    "    movie[\"directors\"] = [] # режиссёр\n",
    "    for director in driver.find_element(By.XPATH, \"//*[contains(text(), 'Режиссер')]\").find_element(By.XPATH, \"following-sibling::*\").find_elements(By.TAG_NAME, \"a\"): # находим все элементы, соответствующие режиссёрам (оформлены в виде ссылок)\n",
    "        movie[\"directors\"].append(director.text) # добавляем режиссёра\n",
    "\n",
    "    movie[\"actors\"] = [] # известные актёры\n",
    "    try: # в некоторых мультфильмов нет списка актёров...\n",
    "        for actor in driver.find_elements(By.CLASS_NAME, \"styles_list___ufg4\")[0].find_elements(By.TAG_NAME, \"li\"): # находим первый (0) список ul, он содержит известных актёров и берём из него все элементы\n",
    "            movie[\"actors\"].append(actor.text) # добавляем текст поля li (актёра) в список\n",
    "    except: # пусть так и останется\n",
    "        pass\n",
    "\n",
    "driver.quit() # закрытие браузера"
   ]
  },
  {
   "cell_type": "code",
   "execution_count": 12,
   "metadata": {},
   "outputs": [
    {
     "data": {
      "text/plain": [
       "{'title': 'Шрэк 2',\n",
       " 'description': 'Шрэк и Фиона возвращаются после медового месяца и находят письмо от родителей Фионы с приглашением на ужин. Однако те не подозревают, что их дочь тоже стала огром! Вместе с Осликом счастливая пара отправляется в путешествие, полное неожиданностей, и попадает в круговорот событий, во время которых приобретает множество друзей… ',\n",
       " 'emojis': None,\n",
       " 'categories': ['мультфильм',\n",
       "  'фэнтези',\n",
       "  'мелодрама',\n",
       "  'комедия',\n",
       "  'приключения',\n",
       "  'семейный'],\n",
       " 'year': '2004',\n",
       " 'directors': ['Эндрю Адамсон', 'Келли Эсбёри', 'Конрад Вернон'],\n",
       " 'actors': ['Майк Майерс',\n",
       "  'Эдди Мерфи',\n",
       "  'Кэмерон Диас',\n",
       "  'Джули Эндрюс',\n",
       "  'Антонио Бандерас',\n",
       "  'Джон Клиз',\n",
       "  'Руперт Эверетт',\n",
       "  'Дженнифер Сондерс',\n",
       "  'Арон Уорнер',\n",
       "  'Келли Эсбёри'],\n",
       " 'tagline': '«Not so far, far away...»',\n",
       " 'hint': ['2'],\n",
       " 'movie_url': 'https://www.kinopoisk.ru/film/5273/'}"
      ]
     },
     "execution_count": 12,
     "metadata": {},
     "output_type": "execute_result"
    }
   ],
   "source": [
    "movies[15] # пример содержимого списка мультфильмов после второго прохода"
   ]
  },
  {
   "cell_type": "code",
   "execution_count": 13,
   "metadata": {},
   "outputs": [],
   "source": [
    "with open('./data/movies_base.json', 'w') as f: # открытие файла для записи ('w')\n",
    "    json.dump(movies, f) # сохраняем в него данные о фильмах"
   ]
  },
  {
   "cell_type": "markdown",
   "metadata": {},
   "source": [
    "# Шаг 2: модель для суммаризации текста"
   ]
  },
  {
   "cell_type": "markdown",
   "metadata": {},
   "source": [
    "<b>\n",
    "Цель: найти модель, что наилучшим образом (быстро и качественно) проводит суммаризацию (и упрощение) синопсиса фильма и провести её fine-tuning. \n",
    "</b>"
   ]
  },
  {
   "cell_type": "markdown",
   "metadata": {},
   "source": [
    "## В качестве используемой модели  был выбран [T5](https://huggingface.co/IlyaGusev/rut5_base_sum_gazeta), обученный на датасете [Gazeta](https://huggingface.co/datasets/IlyaGusev/gazeta)"
   ]
  },
  {
   "attachments": {
    "image.png": {
     "image/png": "[encoded data removed]"
    }
   },
   "cell_type": "markdown",
   "metadata": {},
   "source": [
    "T5 был выбран в связи с тем, что он показывает результаты, сравнимые с лучшими моделями для русскоязычнох текстов, но при этом имеет гораздо меньше параметров (из-за чего умешается на GPU) и хорошую скорость на инференсе!\n",
    "\n",
    "![image.png](attachment:image.png)"
   ]
  },
  {
   "attachments": {
    "image.png": {
     "image/png": "[encoded data removed]"
    }
   },
   "cell_type": "markdown",
   "metadata": {},
   "source": [
    "![image.png](attachment:image.png)"
   ]
  },
  {
   "cell_type": "markdown",
   "metadata": {},
   "source": [
    "BLEU (BiLingual Evaluation Understudy) — метрика, разработанная в IBM (Papineni et al.) в 2001. Основана на подсчете слов (unigrams) и словосочетаний (n‑grams) из машинного перевода, также встречающихся в эталоне. Далее это число делится на общее число слов и словосочетаний в машинном переводе — получается precision. К итоговому precision применяется корректировка — штраф за краткость (brevity penalty), чтобы избежать слишком высоких оценок BLEU для кратких и неполных переводов."
   ]
  },
  {
   "cell_type": "markdown",
   "metadata": {},
   "source": [
    "METEOR (Metric for Evaluation of Translation with Explicit ORdering) – метрика качества машинного перевода, предложенная Banerjee and Lavie в 2005.\n",
    "\n",
    "Оценка основана на подсчете совпадений отдельных слов (unigrams), c расчетом precision, recall, а также обобщающего показателя гармонического среднего (Fmean). В качестве совпадений учитываются не только точные соответствия слов (как в BLEU или ROUGE), но и наличие однокоренных слов или синонимов.\n",
    "\n",
    "Итоговая метрика METEOR рассчитывается путем применения к Fmean штрафа за малую длину либо отсутствие совпадающих n-grams."
   ]
  },
  {
   "cell_type": "markdown",
   "metadata": {},
   "source": [
    "* Берём модель с Hugging Face:"
   ]
  },
  {
   "cell_type": "code",
   "execution_count": 33,
   "metadata": {},
   "outputs": [],
   "source": [
    "model_name = \"IlyaGusev/rut5_base_sum_gazeta\" # название модели на huggingface\n",
    "model = T5ForConditionalGeneration.from_pretrained(model_name) # загружаем предобученную модель\n",
    "tokenizer = AutoTokenizer.from_pretrained(model_name) # загружаем токенайзер"
   ]
  },
  {
   "cell_type": "markdown",
   "metadata": {},
   "source": [
    "* Сохраняем одним из вариантов"
   ]
  },
  {
   "cell_type": "code",
   "execution_count": 97,
   "metadata": {},
   "outputs": [],
   "source": [
    "# torch.save(model.config, \"./models/summarization/t5/config.pth\") # сохраняем config модели\n",
    "# torch.save(model.state_dict(), \"./models/summarization/t5/state_dict.pth\") # сохраняем state_dict модели\n",
    "\n",
    "model.save_pretrained(\"./models/summarization/t5/\")"
   ]
  },
  {
   "cell_type": "code",
   "execution_count": null,
   "metadata": {},
   "outputs": [],
   "source": [
    "tokenizer.save_pretrained(\"./models/summarization/t5/\") # сохраняем токенайзер"
   ]
  },
  {
   "cell_type": "markdown",
   "metadata": {},
   "source": [
    "* Или берём локальное сохранение:"
   ]
  },
  {
   "cell_type": "code",
   "execution_count": 26,
   "metadata": {},
   "outputs": [],
   "source": [
    "# model = AutoModelForSeq2SeqLM.from_config(torch.load(\"./models/summarization/t5/config.pth\"))\n",
    "# model = T5ForConditionalGeneration(torch.load(\"./models/summarization/t5/config.pth\")) # создаём модель с сохранённой конфигурацией\n",
    "\n",
    "# model.load_state_dict(torch.load(\"./models/summarization/t5/state_dict.pth\")) # загружаем предобученную модель\n",
    "\n",
    "model = AutoModelForSeq2SeqLM.from_pretrained(\"./models/summarization/t5/\")\n",
    "\n",
    "model.eval() # переводим модель в режим оценивания"
   ]
  },
  {
   "cell_type": "code",
   "execution_count": 20,
   "metadata": {},
   "outputs": [
    {
     "data": {
      "text/plain": [
       "T5TokenizerFast(name_or_path='./models/summarization/t5/', vocab_size=30000, model_max_length=1000000000000000019884624838656, is_fast=True, padding_side='right', truncation_side='right', special_tokens={'eos_token': '</s>', 'unk_token': '<unk>', 'pad_token': '<pad>'}, clean_up_tokenization_spaces=True),  added_tokens_decoder={\n",
       "\t0: AddedToken(\"<pad>\", rstrip=False, lstrip=False, single_word=False, normalized=False, special=True),\n",
       "\t1: AddedToken(\"</s>\", rstrip=False, lstrip=False, single_word=False, normalized=False, special=True),\n",
       "\t2: AddedToken(\"<unk>\", rstrip=False, lstrip=False, single_word=False, normalized=False, special=True),\n",
       "}"
      ]
     },
     "execution_count": 20,
     "metadata": {},
     "output_type": "execute_result"
    }
   ],
   "source": [
    "tokenizer = AutoTokenizer.from_pretrained(\"./models/summarization/t5/\") # загружаем предобученный токенайзер\n",
    "tokenizer"
   ]
  },
  {
   "cell_type": "markdown",
   "metadata": {},
   "source": [
    "Пример суммаризации текста моделью:"
   ]
  },
  {
   "cell_type": "code",
   "execution_count": 29,
   "metadata": {},
   "outputs": [],
   "source": [
    "text = \"Зима в этом году в тридевятом царстве случилась особенно долгая и холодная. Прямо, как в прошлом году. И как в позапрошлом. Но, вот, пришла весна. Точнее – почти пришла. С вьюгой, морозами и снегом. Как обычно. И совсем было загрустили наши герои – Иван, Василиса, Серый Волк и Царь-батюшка, если бы вместе с почти-весной, не пришла новость - в Трисемнадцатом царстве пройдет ежегодный всесказочный конкурс песни. В прошлом году там победил хомяк Жорж, а чей голос окажется круче на этот раз? Царь решил, что Тридевятое царство будет представлять Кот-ученый. Не один все же мультфильм прошли вместе, да и все равно он про книги забыл, орет, точнее поет целыми днями на крышах, как и положено коту в марте. И, конечно, вся компания во главе с Иваном и Волком отправляется поддержать пушистого певца. Ведь свои нужны рядом. А то шоу-бизнес – настоящий серпентарий, и кто знает, какие темные силы стоят за коварными соперниками и их стремлением стать звездой. Кот ученый и друзья едут за тридевять земель на конкурс песни. Музыкальная сказка о волшебном мире шоу-бизнеса.\""
   ]
  },
  {
   "cell_type": "code",
   "execution_count": 30,
   "metadata": {},
   "outputs": [],
   "source": [
    "def summarize(text, model, tokenizer): # функция для суммаризации текста\n",
    "    input_ids = tokenizer( # токенизируем текст\n",
    "        [text], # текст, что будет токенизирован\n",
    "        max_length=600, # максимальное число токенов\n",
    "        add_special_tokens=True, # добавлять или нет специальные токены при кодировании последовательности (строки)\n",
    "        padding=\"max_length\", # добавление токенов паддинга до достижения максимальной длины\n",
    "        truncation=True, # усечение числа токенов, если их больше max_length\n",
    "        return_tensors=\"pt\", # тип возвращаемого тензора (pytorch)\n",
    "    )[\"input_ids\"] # берём данные \"input_ids\" (сами токены)\n",
    "\n",
    "    output_ids = model.generate( # генерируем суммаризацию\n",
    "        input_ids=input_ids, # передаём входные токены\n",
    "        no_repeat_ngram_size=4 # n-grams данного размера могут возникнуть лишь раз\n",
    "    )[0] # [0] — берём вложение\n",
    "\n",
    "    summary = tokenizer.decode(output_ids, skip_special_tokens=True) # декодируем получившиеся токены в слова (строку) с пропуском специальных токенов (skip_special_tokens=True)\n",
    "    return summary # вывод получившегося саммари"
   ]
  },
  {
   "cell_type": "code",
   "execution_count": 203,
   "metadata": {},
   "outputs": [
    {
     "name": "stdout",
     "output_type": "stream",
     "text": [
      "В Тридевятое царство пройдет ежегодный всесказочный конкурс песни. Вместе с Котом ученым и друзьями пройдет мультфильм о волшебном мире шоу-бизнеса.\n"
     ]
    }
   ],
   "source": [
    "summarize(text, model, tokenizer) # результат суммаризации"
   ]
  },
  {
   "cell_type": "markdown",
   "metadata": {},
   "source": [
    "Суммаризация получилась относительно качественной, однако из-за специфики датасета, на котором предобучалась модель, результат на некоторых сэмплах склонен \"видоизменяться\" под газетные статьи."
   ]
  },
  {
   "cell_type": "code",
   "execution_count": null,
   "metadata": {},
   "outputs": [],
   "source": [
    "with open('./data/movies_base.json', 'r') as f: # открываем файл для чтения ('r')\n",
    "    movies = json.load(f) # загружаем данные"
   ]
  },
  {
   "cell_type": "code",
   "execution_count": 4,
   "metadata": {},
   "outputs": [
    {
     "name": "stderr",
     "output_type": "stream",
     "text": [
      "  0%|          | 0/250 [00:00<?, ?it/s]"
     ]
    },
    {
     "name": "stderr",
     "output_type": "stream",
     "text": [
      "100%|██████████| 250/250 [1:08:39<00:00, 16.48s/it]\n"
     ]
    }
   ],
   "source": [
    "for movie in tqdm(movies): # идём по мультфильмам\n",
    "    movie[\"description\"] = summarize(movie[\"description\"], model, tokenizer) # проводим суммаризацию текста"
   ]
  },
  {
   "cell_type": "code",
   "execution_count": 6,
   "metadata": {},
   "outputs": [],
   "source": [
    "with open('./data/movies_t5.json', 'w') as f: # открытие файла для записи ('w')\n",
    "    json.dump(movies, f) # сохраняем в него данные о фильмах"
   ]
  },
  {
   "cell_type": "markdown",
   "metadata": {},
   "source": [
    "## Обучающий датасет"
   ]
  },
  {
   "cell_type": "markdown",
   "metadata": {},
   "source": [
    "Дообучим модель на другом датасете — [MultiSim](https://huggingface.co/datasets/MichaelR207/MultiSim) и сравним качество получившейся суммаризации.\n",
    "\n",
    "Данный датасет включает множество языков, помимо русского. Содержит train/test/validation splits, однако на русском языке лучше всего составлена только часть train, поэтому она будет разделена на train и test."
   ]
  },
  {
   "cell_type": "code",
   "execution_count": 47,
   "metadata": {},
   "outputs": [
    {
     "name": "stderr",
     "output_type": "stream",
     "text": [
      "C:\\Users\\User\\AppData\\Roaming\\Python\\Python39\\site-packages\\datasets\\load.py:1454: FutureWarning: The repository for MichaelR207/MultiSim contains custom code which must be executed to correctly load the dataset. You can inspect the repository content at https://hf.co/datasets/MichaelR207/MultiSim\n",
      "You can avoid this message in future by passing the argument `trust_remote_code=True`.\n",
      "Passing `trust_remote_code=True` will be mandatory to load this dataset from the next major release of `datasets`.\n",
      "  warnings.warn(\n"
     ]
    }
   ],
   "source": [
    "dataset = load_dataset(\"MichaelR207/MultiSim\") # загружаем датасет с huggingface\n",
    "dataset = dataset.shuffle() # перемешиваем датасет"
   ]
  },
  {
   "cell_type": "markdown",
   "metadata": {},
   "source": [
    "Найдём записи на русском языке и немного очистим их от лишних/неверных символов."
   ]
  },
  {
   "cell_type": "code",
   "execution_count": 74,
   "metadata": {},
   "outputs": [],
   "source": [
    "ru_index_train = [] # список под сэплы в датасете, содержащие русский язык\n",
    "for i, sample in enumerate(dataset[\"train\"]): # идём по сэмплам\n",
    "    if re.search('[а-яА-Я]', sample[\"original\"]): # если нашли хоть одну русскую букву\n",
    "        sample[\"original\"] = re.sub(\"\\x06\", \" \", sample[\"original\"]).strip() # заменяем символ \"\\x06\" на пробел и удаляем лишние пробелы\n",
    "        sample[\"simple\"][\"simplifications\"][0] = re.sub(\"\\x06\", \" \", sample[\"simple\"][\"simplifications\"][0]).strip() # заменяем символ \"\\x06\" на пробел и удаляем лишние пробелы\n",
    "        ru_index_train.append(i) # запоминаем номер сэмпла"
   ]
  },
  {
   "cell_type": "code",
   "execution_count": 75,
   "metadata": {},
   "outputs": [],
   "source": [
    "split_index = int(len(ru_index_train) * 0.8) # индекс для сплита 80%/20%\n",
    "train_elements = ru_index_train[:split_index] # номера сэмплов, что пойдут в обучающую выборку\n",
    "test_elements = ru_index_train[split_index:] # номера сэмплов, что пойдут в оценочную выборку"
   ]
  },
  {
   "cell_type": "code",
   "execution_count": 76,
   "metadata": {},
   "outputs": [],
   "source": [
    "train_dataset = Dataset.from_dict({ # собираем датасет для обучения\n",
    "    \"original\" : dataset[\"train\"][train_elements][\"original\"], # берём оригинальные элементы, соответствующие train_elements\n",
    "    \"simple\" : [sample[\"simplifications\"][0] for sample in dataset[\"train\"][train_elements][\"simple\"]] # берём суммаризацию (вложенная), соответствующие train_elements\n",
    "    })\n",
    "\n",
    "test_dataset = Dataset.from_dict({ # собираем датасет для оценивания\n",
    "    \"original\" : dataset[\"train\"][test_elements][\"original\"], # берём оригинальные элементы, соответствующие test_elements\n",
    "    \"simple\" : [sample[\"simplifications\"][0] for sample in dataset[\"train\"][test_elements][\"simple\"]] # берём суммаризацию (вложенная), соответствующие test_elements\n",
    "    })\n",
    "\n",
    "dataset = DatasetDict({\"train\": train_dataset, \"test\": test_dataset}) # собираем обратно DatasetDict"
   ]
  },
  {
   "cell_type": "code",
   "execution_count": 79,
   "metadata": {},
   "outputs": [
    {
     "data": {
      "application/vnd.jupyter.widget-view+json": {
       "model_id": "efef3c3d5d5347c1b2e80eeeb727f8a6",
       "version_major": 2,
       "version_minor": 0
      },
      "text/plain": [
       "Saving the dataset (0/1 shards):   0%|          | 0/206695 [00:00<?, ? examples/s]"
      ]
     },
     "metadata": {},
     "output_type": "display_data"
    },
    {
     "data": {
      "application/vnd.jupyter.widget-view+json": {
       "model_id": "580fa43a767f48b790bb767fe1685f6f",
       "version_major": 2,
       "version_minor": 0
      },
      "text/plain": [
       "Saving the dataset (0/1 shards):   0%|          | 0/51674 [00:00<?, ? examples/s]"
      ]
     },
     "metadata": {},
     "output_type": "display_data"
    }
   ],
   "source": [
    "dataset.save_to_disk(\"./data/MultiSim_ru\") # сохраняем собранный датасет с помощью Arrow"
   ]
  },
  {
   "cell_type": "markdown",
   "metadata": {},
   "source": [
    "## Fine-tuning"
   ]
  },
  {
   "cell_type": "code",
   "execution_count": 2,
   "metadata": {},
   "outputs": [],
   "source": [
    "dataset = load_from_disk(\"./data/MultiSim_ru\") # загружаем сохранённый датасет"
   ]
  },
  {
   "cell_type": "code",
   "execution_count": 3,
   "metadata": {},
   "outputs": [],
   "source": [
    "data_train = Dataset.from_dict(dataset[\"train\"][:10000]) # берём определённую часть датасета для обучения (так как весь датасет слишком большой)\n",
    "data_test = Dataset.from_dict(dataset[\"test\"][:1000]) # берём определённую часть датасета для оценки (так как весь датасет слишком большой)\n",
    "dataset = DatasetDict({\"train\": data_train, \"test\": data_test}) # собираем датасеты обратно"
   ]
  },
  {
   "cell_type": "code",
   "execution_count": 4,
   "metadata": {},
   "outputs": [
    {
     "data": {
      "text/plain": [
       "T5ForConditionalGeneration(\n",
       "  (shared): Embedding(30000, 768)\n",
       "  (encoder): T5Stack(\n",
       "    (embed_tokens): Embedding(30000, 768)\n",
       "    (block): ModuleList(\n",
       "      (0): T5Block(\n",
       "        (layer): ModuleList(\n",
       "          (0): T5LayerSelfAttention(\n",
       "            (SelfAttention): T5Attention(\n",
       "              (q): Linear(in_features=768, out_features=768, bias=False)\n",
       "              (k): Linear(in_features=768, out_features=768, bias=False)\n",
       "              (v): Linear(in_features=768, out_features=768, bias=False)\n",
       "              (o): Linear(in_features=768, out_features=768, bias=False)\n",
       "              (relative_attention_bias): Embedding(32, 12)\n",
       "            )\n",
       "            (layer_norm): T5LayerNorm()\n",
       "            (dropout): Dropout(p=0.1, inplace=False)\n",
       "          )\n",
       "          (1): T5LayerFF(\n",
       "            (DenseReluDense): T5DenseGatedActDense(\n",
       "              (wi_0): Linear(in_features=768, out_features=2048, bias=False)\n",
       "              (wi_1): Linear(in_features=768, out_features=2048, bias=False)\n",
       "              (wo): Linear(in_features=2048, out_features=768, bias=False)\n",
       "              (dropout): Dropout(p=0.1, inplace=False)\n",
       "              (act): NewGELUActivation()\n",
       "            )\n",
       "            (layer_norm): T5LayerNorm()\n",
       "            (dropout): Dropout(p=0.1, inplace=False)\n",
       "          )\n",
       "        )\n",
       "      )\n",
       "      (1): T5Block(\n",
       "        (layer): ModuleList(\n",
       "          (0): T5LayerSelfAttention(\n",
       "            (SelfAttention): T5Attention(\n",
       "              (q): Linear(in_features=768, out_features=768, bias=False)\n",
       "              (k): Linear(in_features=768, out_features=768, bias=False)\n",
       "              (v): Linear(in_features=768, out_features=768, bias=False)\n",
       "              (o): Linear(in_features=768, out_features=768, bias=False)\n",
       "            )\n",
       "            (layer_norm): T5LayerNorm()\n",
       "            (dropout): Dropout(p=0.1, inplace=False)\n",
       "          )\n",
       "          (1): T5LayerFF(\n",
       "            (DenseReluDense): T5DenseGatedActDense(\n",
       "              (wi_0): Linear(in_features=768, out_features=2048, bias=False)\n",
       "              (wi_1): Linear(in_features=768, out_features=2048, bias=False)\n",
       "              (wo): Linear(in_features=2048, out_features=768, bias=False)\n",
       "              (dropout): Dropout(p=0.1, inplace=False)\n",
       "              (act): NewGELUActivation()\n",
       "            )\n",
       "            (layer_norm): T5LayerNorm()\n",
       "            (dropout): Dropout(p=0.1, inplace=False)\n",
       "          )\n",
       "        )\n",
       "      )\n",
       "      (2): T5Block(\n",
       "        (layer): ModuleList(\n",
       "          (0): T5LayerSelfAttention(\n",
       "            (SelfAttention): T5Attention(\n",
       "              (q): Linear(in_features=768, out_features=768, bias=False)\n",
       "              (k): Linear(in_features=768, out_features=768, bias=False)\n",
       "              (v): Linear(in_features=768, out_features=768, bias=False)\n",
       "              (o): Linear(in_features=768, out_features=768, bias=False)\n",
       "            )\n",
       "            (layer_norm): T5LayerNorm()\n",
       "            (dropout): Dropout(p=0.1, inplace=False)\n",
       "          )\n",
       "          (1): T5LayerFF(\n",
       "            (DenseReluDense): T5DenseGatedActDense(\n",
       "              (wi_0): Linear(in_features=768, out_features=2048, bias=False)\n",
       "              (wi_1): Linear(in_features=768, out_features=2048, bias=False)\n",
       "              (wo): Linear(in_features=2048, out_features=768, bias=False)\n",
       "              (dropout): Dropout(p=0.1, inplace=False)\n",
       "              (act): NewGELUActivation()\n",
       "            )\n",
       "            (layer_norm): T5LayerNorm()\n",
       "            (dropout): Dropout(p=0.1, inplace=False)\n",
       "          )\n",
       "        )\n",
       "      )\n",
       "      (3): T5Block(\n",
       "        (layer): ModuleList(\n",
       "          (0): T5LayerSelfAttention(\n",
       "            (SelfAttention): T5Attention(\n",
       "              (q): Linear(in_features=768, out_features=768, bias=False)\n",
       "              (k): Linear(in_features=768, out_features=768, bias=False)\n",
       "              (v): Linear(in_features=768, out_features=768, bias=False)\n",
       "              (o): Linear(in_features=768, out_features=768, bias=False)\n",
       "            )\n",
       "            (layer_norm): T5LayerNorm()\n",
       "            (dropout): Dropout(p=0.1, inplace=False)\n",
       "          )\n",
       "          (1): T5LayerFF(\n",
       "            (DenseReluDense): T5DenseGatedActDense(\n",
       "              (wi_0): Linear(in_features=768, out_features=2048, bias=False)\n",
       "              (wi_1): Linear(in_features=768, out_features=2048, bias=False)\n",
       "              (wo): Linear(in_features=2048, out_features=768, bias=False)\n",
       "              (dropout): Dropout(p=0.1, inplace=False)\n",
       "              (act): NewGELUActivation()\n",
       "            )\n",
       "            (layer_norm): T5LayerNorm()\n",
       "            (dropout): Dropout(p=0.1, inplace=False)\n",
       "          )\n",
       "        )\n",
       "      )\n",
       "      (4): T5Block(\n",
       "        (layer): ModuleList(\n",
       "          (0): T5LayerSelfAttention(\n",
       "            (SelfAttention): T5Attention(\n",
       "              (q): Linear(in_features=768, out_features=768, bias=False)\n",
       "              (k): Linear(in_features=768, out_features=768, bias=False)\n",
       "              (v): Linear(in_features=768, out_features=768, bias=False)\n",
       "              (o): Linear(in_features=768, out_features=768, bias=False)\n",
       "            )\n",
       "            (layer_norm): T5LayerNorm()\n",
       "            (dropout): Dropout(p=0.1, inplace=False)\n",
       "          )\n",
       "          (1): T5LayerFF(\n",
       "            (DenseReluDense): T5DenseGatedActDense(\n",
       "              (wi_0): Linear(in_features=768, out_features=2048, bias=False)\n",
       "              (wi_1): Linear(in_features=768, out_features=2048, bias=False)\n",
       "              (wo): Linear(in_features=2048, out_features=768, bias=False)\n",
       "              (dropout): Dropout(p=0.1, inplace=False)\n",
       "              (act): NewGELUActivation()\n",
       "            )\n",
       "            (layer_norm): T5LayerNorm()\n",
       "            (dropout): Dropout(p=0.1, inplace=False)\n",
       "          )\n",
       "        )\n",
       "      )\n",
       "      (5): T5Block(\n",
       "        (layer): ModuleList(\n",
       "          (0): T5LayerSelfAttention(\n",
       "            (SelfAttention): T5Attention(\n",
       "              (q): Linear(in_features=768, out_features=768, bias=False)\n",
       "              (k): Linear(in_features=768, out_features=768, bias=False)\n",
       "              (v): Linear(in_features=768, out_features=768, bias=False)\n",
       "              (o): Linear(in_features=768, out_features=768, bias=False)\n",
       "            )\n",
       "            (layer_norm): T5LayerNorm()\n",
       "            (dropout): Dropout(p=0.1, inplace=False)\n",
       "          )\n",
       "          (1): T5LayerFF(\n",
       "            (DenseReluDense): T5DenseGatedActDense(\n",
       "              (wi_0): Linear(in_features=768, out_features=2048, bias=False)\n",
       "              (wi_1): Linear(in_features=768, out_features=2048, bias=False)\n",
       "              (wo): Linear(in_features=2048, out_features=768, bias=False)\n",
       "              (dropout): Dropout(p=0.1, inplace=False)\n",
       "              (act): NewGELUActivation()\n",
       "            )\n",
       "            (layer_norm): T5LayerNorm()\n",
       "            (dropout): Dropout(p=0.1, inplace=False)\n",
       "          )\n",
       "        )\n",
       "      )\n",
       "      (6): T5Block(\n",
       "        (layer): ModuleList(\n",
       "          (0): T5LayerSelfAttention(\n",
       "            (SelfAttention): T5Attention(\n",
       "              (q): Linear(in_features=768, out_features=768, bias=False)\n",
       "              (k): Linear(in_features=768, out_features=768, bias=False)\n",
       "              (v): Linear(in_features=768, out_features=768, bias=False)\n",
       "              (o): Linear(in_features=768, out_features=768, bias=False)\n",
       "            )\n",
       "            (layer_norm): T5LayerNorm()\n",
       "            (dropout): Dropout(p=0.1, inplace=False)\n",
       "          )\n",
       "          (1): T5LayerFF(\n",
       "            (DenseReluDense): T5DenseGatedActDense(\n",
       "              (wi_0): Linear(in_features=768, out_features=2048, bias=False)\n",
       "              (wi_1): Linear(in_features=768, out_features=2048, bias=False)\n",
       "              (wo): Linear(in_features=2048, out_features=768, bias=False)\n",
       "              (dropout): Dropout(p=0.1, inplace=False)\n",
       "              (act): NewGELUActivation()\n",
       "            )\n",
       "            (layer_norm): T5LayerNorm()\n",
       "            (dropout): Dropout(p=0.1, inplace=False)\n",
       "          )\n",
       "        )\n",
       "      )\n",
       "      (7): T5Block(\n",
       "        (layer): ModuleList(\n",
       "          (0): T5LayerSelfAttention(\n",
       "            (SelfAttention): T5Attention(\n",
       "              (q): Linear(in_features=768, out_features=768, bias=False)\n",
       "              (k): Linear(in_features=768, out_features=768, bias=False)\n",
       "              (v): Linear(in_features=768, out_features=768, bias=False)\n",
       "              (o): Linear(in_features=768, out_features=768, bias=False)\n",
       "            )\n",
       "            (layer_norm): T5LayerNorm()\n",
       "            (dropout): Dropout(p=0.1, inplace=False)\n",
       "          )\n",
       "          (1): T5LayerFF(\n",
       "            (DenseReluDense): T5DenseGatedActDense(\n",
       "              (wi_0): Linear(in_features=768, out_features=2048, bias=False)\n",
       "              (wi_1): Linear(in_features=768, out_features=2048, bias=False)\n",
       "              (wo): Linear(in_features=2048, out_features=768, bias=False)\n",
       "              (dropout): Dropout(p=0.1, inplace=False)\n",
       "              (act): NewGELUActivation()\n",
       "            )\n",
       "            (layer_norm): T5LayerNorm()\n",
       "            (dropout): Dropout(p=0.1, inplace=False)\n",
       "          )\n",
       "        )\n",
       "      )\n",
       "      (8): T5Block(\n",
       "        (layer): ModuleList(\n",
       "          (0): T5LayerSelfAttention(\n",
       "            (SelfAttention): T5Attention(\n",
       "              (q): Linear(in_features=768, out_features=768, bias=False)\n",
       "              (k): Linear(in_features=768, out_features=768, bias=False)\n",
       "              (v): Linear(in_features=768, out_features=768, bias=False)\n",
       "              (o): Linear(in_features=768, out_features=768, bias=False)\n",
       "            )\n",
       "            (layer_norm): T5LayerNorm()\n",
       "            (dropout): Dropout(p=0.1, inplace=False)\n",
       "          )\n",
       "          (1): T5LayerFF(\n",
       "            (DenseReluDense): T5DenseGatedActDense(\n",
       "              (wi_0): Linear(in_features=768, out_features=2048, bias=False)\n",
       "              (wi_1): Linear(in_features=768, out_features=2048, bias=False)\n",
       "              (wo): Linear(in_features=2048, out_features=768, bias=False)\n",
       "              (dropout): Dropout(p=0.1, inplace=False)\n",
       "              (act): NewGELUActivation()\n",
       "            )\n",
       "            (layer_norm): T5LayerNorm()\n",
       "            (dropout): Dropout(p=0.1, inplace=False)\n",
       "          )\n",
       "        )\n",
       "      )\n",
       "      (9): T5Block(\n",
       "        (layer): ModuleList(\n",
       "          (0): T5LayerSelfAttention(\n",
       "            (SelfAttention): T5Attention(\n",
       "              (q): Linear(in_features=768, out_features=768, bias=False)\n",
       "              (k): Linear(in_features=768, out_features=768, bias=False)\n",
       "              (v): Linear(in_features=768, out_features=768, bias=False)\n",
       "              (o): Linear(in_features=768, out_features=768, bias=False)\n",
       "            )\n",
       "            (layer_norm): T5LayerNorm()\n",
       "            (dropout): Dropout(p=0.1, inplace=False)\n",
       "          )\n",
       "          (1): T5LayerFF(\n",
       "            (DenseReluDense): T5DenseGatedActDense(\n",
       "              (wi_0): Linear(in_features=768, out_features=2048, bias=False)\n",
       "              (wi_1): Linear(in_features=768, out_features=2048, bias=False)\n",
       "              (wo): Linear(in_features=2048, out_features=768, bias=False)\n",
       "              (dropout): Dropout(p=0.1, inplace=False)\n",
       "              (act): NewGELUActivation()\n",
       "            )\n",
       "            (layer_norm): T5LayerNorm()\n",
       "            (dropout): Dropout(p=0.1, inplace=False)\n",
       "          )\n",
       "        )\n",
       "      )\n",
       "      (10): T5Block(\n",
       "        (layer): ModuleList(\n",
       "          (0): T5LayerSelfAttention(\n",
       "            (SelfAttention): T5Attention(\n",
       "              (q): Linear(in_features=768, out_features=768, bias=False)\n",
       "              (k): Linear(in_features=768, out_features=768, bias=False)\n",
       "              (v): Linear(in_features=768, out_features=768, bias=False)\n",
       "              (o): Linear(in_features=768, out_features=768, bias=False)\n",
       "            )\n",
       "            (layer_norm): T5LayerNorm()\n",
       "            (dropout): Dropout(p=0.1, inplace=False)\n",
       "          )\n",
       "          (1): T5LayerFF(\n",
       "            (DenseReluDense): T5DenseGatedActDense(\n",
       "              (wi_0): Linear(in_features=768, out_features=2048, bias=False)\n",
       "              (wi_1): Linear(in_features=768, out_features=2048, bias=False)\n",
       "              (wo): Linear(in_features=2048, out_features=768, bias=False)\n",
       "              (dropout): Dropout(p=0.1, inplace=False)\n",
       "              (act): NewGELUActivation()\n",
       "            )\n",
       "            (layer_norm): T5LayerNorm()\n",
       "            (dropout): Dropout(p=0.1, inplace=False)\n",
       "          )\n",
       "        )\n",
       "      )\n",
       "      (11): T5Block(\n",
       "        (layer): ModuleList(\n",
       "          (0): T5LayerSelfAttention(\n",
       "            (SelfAttention): T5Attention(\n",
       "              (q): Linear(in_features=768, out_features=768, bias=False)\n",
       "              (k): Linear(in_features=768, out_features=768, bias=False)\n",
       "              (v): Linear(in_features=768, out_features=768, bias=False)\n",
       "              (o): Linear(in_features=768, out_features=768, bias=False)\n",
       "            )\n",
       "            (layer_norm): T5LayerNorm()\n",
       "            (dropout): Dropout(p=0.1, inplace=False)\n",
       "          )\n",
       "          (1): T5LayerFF(\n",
       "            (DenseReluDense): T5DenseGatedActDense(\n",
       "              (wi_0): Linear(in_features=768, out_features=2048, bias=False)\n",
       "              (wi_1): Linear(in_features=768, out_features=2048, bias=False)\n",
       "              (wo): Linear(in_features=2048, out_features=768, bias=False)\n",
       "              (dropout): Dropout(p=0.1, inplace=False)\n",
       "              (act): NewGELUActivation()\n",
       "            )\n",
       "            (layer_norm): T5LayerNorm()\n",
       "            (dropout): Dropout(p=0.1, inplace=False)\n",
       "          )\n",
       "        )\n",
       "      )\n",
       "    )\n",
       "    (final_layer_norm): T5LayerNorm()\n",
       "    (dropout): Dropout(p=0.1, inplace=False)\n",
       "  )\n",
       "  (decoder): T5Stack(\n",
       "    (embed_tokens): Embedding(30000, 768)\n",
       "    (block): ModuleList(\n",
       "      (0): T5Block(\n",
       "        (layer): ModuleList(\n",
       "          (0): T5LayerSelfAttention(\n",
       "            (SelfAttention): T5Attention(\n",
       "              (q): Linear(in_features=768, out_features=768, bias=False)\n",
       "              (k): Linear(in_features=768, out_features=768, bias=False)\n",
       "              (v): Linear(in_features=768, out_features=768, bias=False)\n",
       "              (o): Linear(in_features=768, out_features=768, bias=False)\n",
       "              (relative_attention_bias): Embedding(32, 12)\n",
       "            )\n",
       "            (layer_norm): T5LayerNorm()\n",
       "            (dropout): Dropout(p=0.1, inplace=False)\n",
       "          )\n",
       "          (1): T5LayerCrossAttention(\n",
       "            (EncDecAttention): T5Attention(\n",
       "              (q): Linear(in_features=768, out_features=768, bias=False)\n",
       "              (k): Linear(in_features=768, out_features=768, bias=False)\n",
       "              (v): Linear(in_features=768, out_features=768, bias=False)\n",
       "              (o): Linear(in_features=768, out_features=768, bias=False)\n",
       "            )\n",
       "            (layer_norm): T5LayerNorm()\n",
       "            (dropout): Dropout(p=0.1, inplace=False)\n",
       "          )\n",
       "          (2): T5LayerFF(\n",
       "            (DenseReluDense): T5DenseGatedActDense(\n",
       "              (wi_0): Linear(in_features=768, out_features=2048, bias=False)\n",
       "              (wi_1): Linear(in_features=768, out_features=2048, bias=False)\n",
       "              (wo): Linear(in_features=2048, out_features=768, bias=False)\n",
       "              (dropout): Dropout(p=0.1, inplace=False)\n",
       "              (act): NewGELUActivation()\n",
       "            )\n",
       "            (layer_norm): T5LayerNorm()\n",
       "            (dropout): Dropout(p=0.1, inplace=False)\n",
       "          )\n",
       "        )\n",
       "      )\n",
       "      (1): T5Block(\n",
       "        (layer): ModuleList(\n",
       "          (0): T5LayerSelfAttention(\n",
       "            (SelfAttention): T5Attention(\n",
       "              (q): Linear(in_features=768, out_features=768, bias=False)\n",
       "              (k): Linear(in_features=768, out_features=768, bias=False)\n",
       "              (v): Linear(in_features=768, out_features=768, bias=False)\n",
       "              (o): Linear(in_features=768, out_features=768, bias=False)\n",
       "            )\n",
       "            (layer_norm): T5LayerNorm()\n",
       "            (dropout): Dropout(p=0.1, inplace=False)\n",
       "          )\n",
       "          (1): T5LayerCrossAttention(\n",
       "            (EncDecAttention): T5Attention(\n",
       "              (q): Linear(in_features=768, out_features=768, bias=False)\n",
       "              (k): Linear(in_features=768, out_features=768, bias=False)\n",
       "              (v): Linear(in_features=768, out_features=768, bias=False)\n",
       "              (o): Linear(in_features=768, out_features=768, bias=False)\n",
       "            )\n",
       "            (layer_norm): T5LayerNorm()\n",
       "            (dropout): Dropout(p=0.1, inplace=False)\n",
       "          )\n",
       "          (2): T5LayerFF(\n",
       "            (DenseReluDense): T5DenseGatedActDense(\n",
       "              (wi_0): Linear(in_features=768, out_features=2048, bias=False)\n",
       "              (wi_1): Linear(in_features=768, out_features=2048, bias=False)\n",
       "              (wo): Linear(in_features=2048, out_features=768, bias=False)\n",
       "              (dropout): Dropout(p=0.1, inplace=False)\n",
       "              (act): NewGELUActivation()\n",
       "            )\n",
       "            (layer_norm): T5LayerNorm()\n",
       "            (dropout): Dropout(p=0.1, inplace=False)\n",
       "          )\n",
       "        )\n",
       "      )\n",
       "      (2): T5Block(\n",
       "        (layer): ModuleList(\n",
       "          (0): T5LayerSelfAttention(\n",
       "            (SelfAttention): T5Attention(\n",
       "              (q): Linear(in_features=768, out_features=768, bias=False)\n",
       "              (k): Linear(in_features=768, out_features=768, bias=False)\n",
       "              (v): Linear(in_features=768, out_features=768, bias=False)\n",
       "              (o): Linear(in_features=768, out_features=768, bias=False)\n",
       "            )\n",
       "            (layer_norm): T5LayerNorm()\n",
       "            (dropout): Dropout(p=0.1, inplace=False)\n",
       "          )\n",
       "          (1): T5LayerCrossAttention(\n",
       "            (EncDecAttention): T5Attention(\n",
       "              (q): Linear(in_features=768, out_features=768, bias=False)\n",
       "              (k): Linear(in_features=768, out_features=768, bias=False)\n",
       "              (v): Linear(in_features=768, out_features=768, bias=False)\n",
       "              (o): Linear(in_features=768, out_features=768, bias=False)\n",
       "            )\n",
       "            (layer_norm): T5LayerNorm()\n",
       "            (dropout): Dropout(p=0.1, inplace=False)\n",
       "          )\n",
       "          (2): T5LayerFF(\n",
       "            (DenseReluDense): T5DenseGatedActDense(\n",
       "              (wi_0): Linear(in_features=768, out_features=2048, bias=False)\n",
       "              (wi_1): Linear(in_features=768, out_features=2048, bias=False)\n",
       "              (wo): Linear(in_features=2048, out_features=768, bias=False)\n",
       "              (dropout): Dropout(p=0.1, inplace=False)\n",
       "              (act): NewGELUActivation()\n",
       "            )\n",
       "            (layer_norm): T5LayerNorm()\n",
       "            (dropout): Dropout(p=0.1, inplace=False)\n",
       "          )\n",
       "        )\n",
       "      )\n",
       "      (3): T5Block(\n",
       "        (layer): ModuleList(\n",
       "          (0): T5LayerSelfAttention(\n",
       "            (SelfAttention): T5Attention(\n",
       "              (q): Linear(in_features=768, out_features=768, bias=False)\n",
       "              (k): Linear(in_features=768, out_features=768, bias=False)\n",
       "              (v): Linear(in_features=768, out_features=768, bias=False)\n",
       "              (o): Linear(in_features=768, out_features=768, bias=False)\n",
       "            )\n",
       "            (layer_norm): T5LayerNorm()\n",
       "            (dropout): Dropout(p=0.1, inplace=False)\n",
       "          )\n",
       "          (1): T5LayerCrossAttention(\n",
       "            (EncDecAttention): T5Attention(\n",
       "              (q): Linear(in_features=768, out_features=768, bias=False)\n",
       "              (k): Linear(in_features=768, out_features=768, bias=False)\n",
       "              (v): Linear(in_features=768, out_features=768, bias=False)\n",
       "              (o): Linear(in_features=768, out_features=768, bias=False)\n",
       "            )\n",
       "            (layer_norm): T5LayerNorm()\n",
       "            (dropout): Dropout(p=0.1, inplace=False)\n",
       "          )\n",
       "          (2): T5LayerFF(\n",
       "            (DenseReluDense): T5DenseGatedActDense(\n",
       "              (wi_0): Linear(in_features=768, out_features=2048, bias=False)\n",
       "              (wi_1): Linear(in_features=768, out_features=2048, bias=False)\n",
       "              (wo): Linear(in_features=2048, out_features=768, bias=False)\n",
       "              (dropout): Dropout(p=0.1, inplace=False)\n",
       "              (act): NewGELUActivation()\n",
       "            )\n",
       "            (layer_norm): T5LayerNorm()\n",
       "            (dropout): Dropout(p=0.1, inplace=False)\n",
       "          )\n",
       "        )\n",
       "      )\n",
       "      (4): T5Block(\n",
       "        (layer): ModuleList(\n",
       "          (0): T5LayerSelfAttention(\n",
       "            (SelfAttention): T5Attention(\n",
       "              (q): Linear(in_features=768, out_features=768, bias=False)\n",
       "              (k): Linear(in_features=768, out_features=768, bias=False)\n",
       "              (v): Linear(in_features=768, out_features=768, bias=False)\n",
       "              (o): Linear(in_features=768, out_features=768, bias=False)\n",
       "            )\n",
       "            (layer_norm): T5LayerNorm()\n",
       "            (dropout): Dropout(p=0.1, inplace=False)\n",
       "          )\n",
       "          (1): T5LayerCrossAttention(\n",
       "            (EncDecAttention): T5Attention(\n",
       "              (q): Linear(in_features=768, out_features=768, bias=False)\n",
       "              (k): Linear(in_features=768, out_features=768, bias=False)\n",
       "              (v): Linear(in_features=768, out_features=768, bias=False)\n",
       "              (o): Linear(in_features=768, out_features=768, bias=False)\n",
       "            )\n",
       "            (layer_norm): T5LayerNorm()\n",
       "            (dropout): Dropout(p=0.1, inplace=False)\n",
       "          )\n",
       "          (2): T5LayerFF(\n",
       "            (DenseReluDense): T5DenseGatedActDense(\n",
       "              (wi_0): Linear(in_features=768, out_features=2048, bias=False)\n",
       "              (wi_1): Linear(in_features=768, out_features=2048, bias=False)\n",
       "              (wo): Linear(in_features=2048, out_features=768, bias=False)\n",
       "              (dropout): Dropout(p=0.1, inplace=False)\n",
       "              (act): NewGELUActivation()\n",
       "            )\n",
       "            (layer_norm): T5LayerNorm()\n",
       "            (dropout): Dropout(p=0.1, inplace=False)\n",
       "          )\n",
       "        )\n",
       "      )\n",
       "      (5): T5Block(\n",
       "        (layer): ModuleList(\n",
       "          (0): T5LayerSelfAttention(\n",
       "            (SelfAttention): T5Attention(\n",
       "              (q): Linear(in_features=768, out_features=768, bias=False)\n",
       "              (k): Linear(in_features=768, out_features=768, bias=False)\n",
       "              (v): Linear(in_features=768, out_features=768, bias=False)\n",
       "              (o): Linear(in_features=768, out_features=768, bias=False)\n",
       "            )\n",
       "            (layer_norm): T5LayerNorm()\n",
       "            (dropout): Dropout(p=0.1, inplace=False)\n",
       "          )\n",
       "          (1): T5LayerCrossAttention(\n",
       "            (EncDecAttention): T5Attention(\n",
       "              (q): Linear(in_features=768, out_features=768, bias=False)\n",
       "              (k): Linear(in_features=768, out_features=768, bias=False)\n",
       "              (v): Linear(in_features=768, out_features=768, bias=False)\n",
       "              (o): Linear(in_features=768, out_features=768, bias=False)\n",
       "            )\n",
       "            (layer_norm): T5LayerNorm()\n",
       "            (dropout): Dropout(p=0.1, inplace=False)\n",
       "          )\n",
       "          (2): T5LayerFF(\n",
       "            (DenseReluDense): T5DenseGatedActDense(\n",
       "              (wi_0): Linear(in_features=768, out_features=2048, bias=False)\n",
       "              (wi_1): Linear(in_features=768, out_features=2048, bias=False)\n",
       "              (wo): Linear(in_features=2048, out_features=768, bias=False)\n",
       "              (dropout): Dropout(p=0.1, inplace=False)\n",
       "              (act): NewGELUActivation()\n",
       "            )\n",
       "            (layer_norm): T5LayerNorm()\n",
       "            (dropout): Dropout(p=0.1, inplace=False)\n",
       "          )\n",
       "        )\n",
       "      )\n",
       "      (6): T5Block(\n",
       "        (layer): ModuleList(\n",
       "          (0): T5LayerSelfAttention(\n",
       "            (SelfAttention): T5Attention(\n",
       "              (q): Linear(in_features=768, out_features=768, bias=False)\n",
       "              (k): Linear(in_features=768, out_features=768, bias=False)\n",
       "              (v): Linear(in_features=768, out_features=768, bias=False)\n",
       "              (o): Linear(in_features=768, out_features=768, bias=False)\n",
       "            )\n",
       "            (layer_norm): T5LayerNorm()\n",
       "            (dropout): Dropout(p=0.1, inplace=False)\n",
       "          )\n",
       "          (1): T5LayerCrossAttention(\n",
       "            (EncDecAttention): T5Attention(\n",
       "              (q): Linear(in_features=768, out_features=768, bias=False)\n",
       "              (k): Linear(in_features=768, out_features=768, bias=False)\n",
       "              (v): Linear(in_features=768, out_features=768, bias=False)\n",
       "              (o): Linear(in_features=768, out_features=768, bias=False)\n",
       "            )\n",
       "            (layer_norm): T5LayerNorm()\n",
       "            (dropout): Dropout(p=0.1, inplace=False)\n",
       "          )\n",
       "          (2): T5LayerFF(\n",
       "            (DenseReluDense): T5DenseGatedActDense(\n",
       "              (wi_0): Linear(in_features=768, out_features=2048, bias=False)\n",
       "              (wi_1): Linear(in_features=768, out_features=2048, bias=False)\n",
       "              (wo): Linear(in_features=2048, out_features=768, bias=False)\n",
       "              (dropout): Dropout(p=0.1, inplace=False)\n",
       "              (act): NewGELUActivation()\n",
       "            )\n",
       "            (layer_norm): T5LayerNorm()\n",
       "            (dropout): Dropout(p=0.1, inplace=False)\n",
       "          )\n",
       "        )\n",
       "      )\n",
       "      (7): T5Block(\n",
       "        (layer): ModuleList(\n",
       "          (0): T5LayerSelfAttention(\n",
       "            (SelfAttention): T5Attention(\n",
       "              (q): Linear(in_features=768, out_features=768, bias=False)\n",
       "              (k): Linear(in_features=768, out_features=768, bias=False)\n",
       "              (v): Linear(in_features=768, out_features=768, bias=False)\n",
       "              (o): Linear(in_features=768, out_features=768, bias=False)\n",
       "            )\n",
       "            (layer_norm): T5LayerNorm()\n",
       "            (dropout): Dropout(p=0.1, inplace=False)\n",
       "          )\n",
       "          (1): T5LayerCrossAttention(\n",
       "            (EncDecAttention): T5Attention(\n",
       "              (q): Linear(in_features=768, out_features=768, bias=False)\n",
       "              (k): Linear(in_features=768, out_features=768, bias=False)\n",
       "              (v): Linear(in_features=768, out_features=768, bias=False)\n",
       "              (o): Linear(in_features=768, out_features=768, bias=False)\n",
       "            )\n",
       "            (layer_norm): T5LayerNorm()\n",
       "            (dropout): Dropout(p=0.1, inplace=False)\n",
       "          )\n",
       "          (2): T5LayerFF(\n",
       "            (DenseReluDense): T5DenseGatedActDense(\n",
       "              (wi_0): Linear(in_features=768, out_features=2048, bias=False)\n",
       "              (wi_1): Linear(in_features=768, out_features=2048, bias=False)\n",
       "              (wo): Linear(in_features=2048, out_features=768, bias=False)\n",
       "              (dropout): Dropout(p=0.1, inplace=False)\n",
       "              (act): NewGELUActivation()\n",
       "            )\n",
       "            (layer_norm): T5LayerNorm()\n",
       "            (dropout): Dropout(p=0.1, inplace=False)\n",
       "          )\n",
       "        )\n",
       "      )\n",
       "      (8): T5Block(\n",
       "        (layer): ModuleList(\n",
       "          (0): T5LayerSelfAttention(\n",
       "            (SelfAttention): T5Attention(\n",
       "              (q): Linear(in_features=768, out_features=768, bias=False)\n",
       "              (k): Linear(in_features=768, out_features=768, bias=False)\n",
       "              (v): Linear(in_features=768, out_features=768, bias=False)\n",
       "              (o): Linear(in_features=768, out_features=768, bias=False)\n",
       "            )\n",
       "            (layer_norm): T5LayerNorm()\n",
       "            (dropout): Dropout(p=0.1, inplace=False)\n",
       "          )\n",
       "          (1): T5LayerCrossAttention(\n",
       "            (EncDecAttention): T5Attention(\n",
       "              (q): Linear(in_features=768, out_features=768, bias=False)\n",
       "              (k): Linear(in_features=768, out_features=768, bias=False)\n",
       "              (v): Linear(in_features=768, out_features=768, bias=False)\n",
       "              (o): Linear(in_features=768, out_features=768, bias=False)\n",
       "            )\n",
       "            (layer_norm): T5LayerNorm()\n",
       "            (dropout): Dropout(p=0.1, inplace=False)\n",
       "          )\n",
       "          (2): T5LayerFF(\n",
       "            (DenseReluDense): T5DenseGatedActDense(\n",
       "              (wi_0): Linear(in_features=768, out_features=2048, bias=False)\n",
       "              (wi_1): Linear(in_features=768, out_features=2048, bias=False)\n",
       "              (wo): Linear(in_features=2048, out_features=768, bias=False)\n",
       "              (dropout): Dropout(p=0.1, inplace=False)\n",
       "              (act): NewGELUActivation()\n",
       "            )\n",
       "            (layer_norm): T5LayerNorm()\n",
       "            (dropout): Dropout(p=0.1, inplace=False)\n",
       "          )\n",
       "        )\n",
       "      )\n",
       "      (9): T5Block(\n",
       "        (layer): ModuleList(\n",
       "          (0): T5LayerSelfAttention(\n",
       "            (SelfAttention): T5Attention(\n",
       "              (q): Linear(in_features=768, out_features=768, bias=False)\n",
       "              (k): Linear(in_features=768, out_features=768, bias=False)\n",
       "              (v): Linear(in_features=768, out_features=768, bias=False)\n",
       "              (o): Linear(in_features=768, out_features=768, bias=False)\n",
       "            )\n",
       "            (layer_norm): T5LayerNorm()\n",
       "            (dropout): Dropout(p=0.1, inplace=False)\n",
       "          )\n",
       "          (1): T5LayerCrossAttention(\n",
       "            (EncDecAttention): T5Attention(\n",
       "              (q): Linear(in_features=768, out_features=768, bias=False)\n",
       "              (k): Linear(in_features=768, out_features=768, bias=False)\n",
       "              (v): Linear(in_features=768, out_features=768, bias=False)\n",
       "              (o): Linear(in_features=768, out_features=768, bias=False)\n",
       "            )\n",
       "            (layer_norm): T5LayerNorm()\n",
       "            (dropout): Dropout(p=0.1, inplace=False)\n",
       "          )\n",
       "          (2): T5LayerFF(\n",
       "            (DenseReluDense): T5DenseGatedActDense(\n",
       "              (wi_0): Linear(in_features=768, out_features=2048, bias=False)\n",
       "              (wi_1): Linear(in_features=768, out_features=2048, bias=False)\n",
       "              (wo): Linear(in_features=2048, out_features=768, bias=False)\n",
       "              (dropout): Dropout(p=0.1, inplace=False)\n",
       "              (act): NewGELUActivation()\n",
       "            )\n",
       "            (layer_norm): T5LayerNorm()\n",
       "            (dropout): Dropout(p=0.1, inplace=False)\n",
       "          )\n",
       "        )\n",
       "      )\n",
       "      (10): T5Block(\n",
       "        (layer): ModuleList(\n",
       "          (0): T5LayerSelfAttention(\n",
       "            (SelfAttention): T5Attention(\n",
       "              (q): Linear(in_features=768, out_features=768, bias=False)\n",
       "              (k): Linear(in_features=768, out_features=768, bias=False)\n",
       "              (v): Linear(in_features=768, out_features=768, bias=False)\n",
       "              (o): Linear(in_features=768, out_features=768, bias=False)\n",
       "            )\n",
       "            (layer_norm): T5LayerNorm()\n",
       "            (dropout): Dropout(p=0.1, inplace=False)\n",
       "          )\n",
       "          (1): T5LayerCrossAttention(\n",
       "            (EncDecAttention): T5Attention(\n",
       "              (q): Linear(in_features=768, out_features=768, bias=False)\n",
       "              (k): Linear(in_features=768, out_features=768, bias=False)\n",
       "              (v): Linear(in_features=768, out_features=768, bias=False)\n",
       "              (o): Linear(in_features=768, out_features=768, bias=False)\n",
       "            )\n",
       "            (layer_norm): T5LayerNorm()\n",
       "            (dropout): Dropout(p=0.1, inplace=False)\n",
       "          )\n",
       "          (2): T5LayerFF(\n",
       "            (DenseReluDense): T5DenseGatedActDense(\n",
       "              (wi_0): Linear(in_features=768, out_features=2048, bias=False)\n",
       "              (wi_1): Linear(in_features=768, out_features=2048, bias=False)\n",
       "              (wo): Linear(in_features=2048, out_features=768, bias=False)\n",
       "              (dropout): Dropout(p=0.1, inplace=False)\n",
       "              (act): NewGELUActivation()\n",
       "            )\n",
       "            (layer_norm): T5LayerNorm()\n",
       "            (dropout): Dropout(p=0.1, inplace=False)\n",
       "          )\n",
       "        )\n",
       "      )\n",
       "      (11): T5Block(\n",
       "        (layer): ModuleList(\n",
       "          (0): T5LayerSelfAttention(\n",
       "            (SelfAttention): T5Attention(\n",
       "              (q): Linear(in_features=768, out_features=768, bias=False)\n",
       "              (k): Linear(in_features=768, out_features=768, bias=False)\n",
       "              (v): Linear(in_features=768, out_features=768, bias=False)\n",
       "              (o): Linear(in_features=768, out_features=768, bias=False)\n",
       "            )\n",
       "            (layer_norm): T5LayerNorm()\n",
       "            (dropout): Dropout(p=0.1, inplace=False)\n",
       "          )\n",
       "          (1): T5LayerCrossAttention(\n",
       "            (EncDecAttention): T5Attention(\n",
       "              (q): Linear(in_features=768, out_features=768, bias=False)\n",
       "              (k): Linear(in_features=768, out_features=768, bias=False)\n",
       "              (v): Linear(in_features=768, out_features=768, bias=False)\n",
       "              (o): Linear(in_features=768, out_features=768, bias=False)\n",
       "            )\n",
       "            (layer_norm): T5LayerNorm()\n",
       "            (dropout): Dropout(p=0.1, inplace=False)\n",
       "          )\n",
       "          (2): T5LayerFF(\n",
       "            (DenseReluDense): T5DenseGatedActDense(\n",
       "              (wi_0): Linear(in_features=768, out_features=2048, bias=False)\n",
       "              (wi_1): Linear(in_features=768, out_features=2048, bias=False)\n",
       "              (wo): Linear(in_features=2048, out_features=768, bias=False)\n",
       "              (dropout): Dropout(p=0.1, inplace=False)\n",
       "              (act): NewGELUActivation()\n",
       "            )\n",
       "            (layer_norm): T5LayerNorm()\n",
       "            (dropout): Dropout(p=0.1, inplace=False)\n",
       "          )\n",
       "        )\n",
       "      )\n",
       "    )\n",
       "    (final_layer_norm): T5LayerNorm()\n",
       "    (dropout): Dropout(p=0.1, inplace=False)\n",
       "  )\n",
       "  (lm_head): Linear(in_features=768, out_features=30000, bias=False)\n",
       ")"
      ]
     },
     "execution_count": 4,
     "metadata": {},
     "output_type": "execute_result"
    }
   ],
   "source": [
    "model = AutoModelForSeq2SeqLM.from_pretrained(\"./models/summarization/t5/\") # загружаем сохранённую модель\n",
    "model.train() # переводим модель в режим обучения"
   ]
  },
  {
   "cell_type": "code",
   "execution_count": 5,
   "metadata": {},
   "outputs": [
    {
     "data": {
      "text/plain": [
       "T5TokenizerFast(name_or_path='./models/summarization/t5/', vocab_size=30000, model_max_length=1000000000000000019884624838656, is_fast=True, padding_side='right', truncation_side='right', special_tokens={'eos_token': '</s>', 'unk_token': '<unk>', 'pad_token': '<pad>'}, clean_up_tokenization_spaces=True),  added_tokens_decoder={\n",
       "\t0: AddedToken(\"<pad>\", rstrip=False, lstrip=False, single_word=False, normalized=False, special=True),\n",
       "\t1: AddedToken(\"</s>\", rstrip=False, lstrip=False, single_word=False, normalized=False, special=True),\n",
       "\t2: AddedToken(\"<unk>\", rstrip=False, lstrip=False, single_word=False, normalized=False, special=True),\n",
       "}"
      ]
     },
     "execution_count": 5,
     "metadata": {},
     "output_type": "execute_result"
    }
   ],
   "source": [
    "tokenizer = AutoTokenizer.from_pretrained(\"./models/summarization/t5/\", do_lower_case=False, strip_accents=False) # загружаем предобученный токенайзер (do_lower_case=False — без приведения к нижнему регистру)\n",
    "tokenizer # особенности токенайзера (tokenizer.vocab для просмотра данных слово—токен)"
   ]
  },
  {
   "cell_type": "code",
   "execution_count": 6,
   "metadata": {},
   "outputs": [],
   "source": [
    "def preprocess_function(dataset): # функция для токенизации текста\n",
    "    # токенизация данных (в датасете появятся солбцы \"input_ids\" с токенами входа, \"attention_mask\" и \"labels\" с ожидаемыми токенами предсказания)\n",
    "    model_inputs = tokenizer(dataset[\"original\"], text_target=dataset[\"simple\"], max_length=600, padding=False, truncation=True) # токенизируем данные (без паддинга, но с обрезанием лишних токенов)\n",
    "    return model_inputs"
   ]
  },
  {
   "cell_type": "code",
   "execution_count": 7,
   "metadata": {},
   "outputs": [
    {
     "data": {
      "application/vnd.jupyter.widget-view+json": {
       "model_id": "a157f3a48b1148c395cd8c8040598641",
       "version_major": 2,
       "version_minor": 0
      },
      "text/plain": [
       "Map:   0%|          | 0/10000 [00:00<?, ? examples/s]"
      ]
     },
     "metadata": {},
     "output_type": "display_data"
    },
    {
     "data": {
      "application/vnd.jupyter.widget-view+json": {
       "model_id": "ac03dec45aa64979ab569f09a9c0fa05",
       "version_major": 2,
       "version_minor": 0
      },
      "text/plain": [
       "Map:   0%|          | 0/1000 [00:00<?, ? examples/s]"
      ]
     },
     "metadata": {},
     "output_type": "display_data"
    }
   ],
   "source": [
    "tokenized_dataset = dataset.map(preprocess_function, batched=True) # применяем функцию preprocess_function ко всем данным в датасете"
   ]
  },
  {
   "cell_type": "code",
   "execution_count": 8,
   "metadata": {},
   "outputs": [
    {
     "data": {
      "text/plain": [
       "{'original': 'Луаре - это департамент на севере центральной части Франции, названный в честь реки Луаре.',\n",
       " 'simple': 'Луаре - это департамент, расположенный в центре Франции в Центральном регионе.',\n",
       " 'input_ids': [4661,\n",
       "  21275,\n",
       "  259,\n",
       "  264,\n",
       "  1205,\n",
       "  259,\n",
       "  15024,\n",
       "  310,\n",
       "  15095,\n",
       "  324,\n",
       "  3734,\n",
       "  6776,\n",
       "  4286,\n",
       "  18083,\n",
       "  279,\n",
       "  261,\n",
       "  21146,\n",
       "  1292,\n",
       "  315,\n",
       "  6229,\n",
       "  833,\n",
       "  259,\n",
       "  25263,\n",
       "  4661,\n",
       "  21275,\n",
       "  260,\n",
       "  1],\n",
       " 'attention_mask': [1,\n",
       "  1,\n",
       "  1,\n",
       "  1,\n",
       "  1,\n",
       "  1,\n",
       "  1,\n",
       "  1,\n",
       "  1,\n",
       "  1,\n",
       "  1,\n",
       "  1,\n",
       "  1,\n",
       "  1,\n",
       "  1,\n",
       "  1,\n",
       "  1,\n",
       "  1,\n",
       "  1,\n",
       "  1,\n",
       "  1,\n",
       "  1,\n",
       "  1,\n",
       "  1,\n",
       "  1,\n",
       "  1,\n",
       "  1],\n",
       " 'labels': [4661,\n",
       "  21275,\n",
       "  259,\n",
       "  264,\n",
       "  1205,\n",
       "  259,\n",
       "  15024,\n",
       "  261,\n",
       "  259,\n",
       "  10913,\n",
       "  1292,\n",
       "  315,\n",
       "  3734,\n",
       "  324,\n",
       "  18083,\n",
       "  279,\n",
       "  315,\n",
       "  259,\n",
       "  26328,\n",
       "  637,\n",
       "  6062,\n",
       "  324,\n",
       "  260,\n",
       "  1]}"
      ]
     },
     "execution_count": 8,
     "metadata": {},
     "output_type": "execute_result"
    }
   ],
   "source": [
    "tokenized_dataset[\"train\"][0] # пример текущего содержимого датасета"
   ]
  },
  {
   "cell_type": "code",
   "execution_count": 9,
   "metadata": {},
   "outputs": [],
   "source": [
    "data_collator = DataCollatorForSeq2Seq(tokenizer=tokenizer, model=model) # создаём компановщик данных для передачи их во время обучения"
   ]
  },
  {
   "cell_type": "code",
   "execution_count": 10,
   "metadata": {},
   "outputs": [],
   "source": [
    "metric = evaluate.load(\"sacrebleu\") # загружаем метрику для задачи\n",
    "\n",
    "# metric.compute(predictions=[\"this is a dog\"], references=[[\"is a dog\"]])\n",
    "# predictions — list из предсказаний (str)\n",
    "# references — list из list (из ожидаемых ответов (str)) для каждого элемента в predictions\n",
    "# {'score': 59.460355750136046,\n",
    "#  'counts': [3, 2, 1, 0],\n",
    "#  'totals': [4, 3, 2, 1],\n",
    "#  'precisions': [75.0, 66.66666666666667, 50.0, 50.0],\n",
    "#  'bp': 1.0,\n",
    "#  'sys_len': 4,\n",
    "#  'ref_len': 3}"
   ]
  },
  {
   "cell_type": "code",
   "execution_count": 11,
   "metadata": {},
   "outputs": [],
   "source": [
    "def compute_metrics(eval_preds): # функция для подсчёта метрики\n",
    "    preds, labels = eval_preds # разделяем предсказания \n",
    "    labels = np.where(labels != -100, labels, tokenizer.pad_token_id)\n",
    "\n",
    "    decoded_preds = tokenizer.batch_decode(preds, skip_special_tokens=True) # декодируем токены предсказаний в слова (предложения)\n",
    "    decoded_labels = tokenizer.batch_decode(labels, skip_special_tokens=True) # декодируем токены ожидания в слова (предложения)\n",
    "\n",
    "    result = metric.compute(predictions=decoded_preds, references=decoded_labels) # считаем значение метрики\n",
    "    result = {\"bleu\": result[\"score\"]} # добавляем в список метрик\n",
    "\n",
    "    prediction_lens = [np.count_nonzero(pred != tokenizer.pad_token_id) for pred in preds] # считаем число токенов в предсказании\n",
    "    result[\"gen_len\"] = np.mean(prediction_lens) # считаем среднюю длину предсказания\n",
    "    result = {k: round(v, 4) for k, v in result.items()} # округляем числа до 4 знаков после запятой\n",
    "    return result"
   ]
  },
  {
   "cell_type": "code",
   "execution_count": 12,
   "metadata": {},
   "outputs": [],
   "source": [
    "training_args = Seq2SeqTrainingArguments( # аргументы для обучения\n",
    "    # output_dir=\"C:/Users/User/Desktop/t5/training\", # путь, по которому будут сохраняться чекпоинты (и предсказания) во время обучения (ПОЛНЫЙ путь не должен включать кириллицу)\n",
    "    output_dir=\"./models/summarization/t5/training\", # путь, по которому будут сохраняться чекпоинты (и предсказания) во время обучения (ПОЛНЫЙ путь не должен включать кириллицу)\n",
    "    overwrite_output_dir=False, # перезаписывать ли содержимое папки OUTPUT_DIR, если имена будут совпадать\n",
    "    save_total_limit=None, # сколько максимум хранить чекпоинтов в папке, старые будут просто перезаписываться (None — без лимита)\n",
    "    num_train_epochs=5, # число эпох для обучения\n",
    "    learning_rate=0.0005, # размер шага обучения\n",
    "    gradient_accumulation_steps=1, # число итераций, за которые будет накапливаться градиент для backward pass (обновления параметров модели)\n",
    "    per_device_train_batch_size=8, # размер батча при обучении (число сэмлов, передающееся в модель за одну итерацию)\n",
    "    per_device_eval_batch_size=8, # размер батча при оценивании (число сэмлов, передающееся в модель за одну итерацию)\n",
    "    evaluation_strategy=\"steps\", # как часто оценивать качество обучения (возможные значения: \"no\", \"steps\", \"epoch\")\n",
    "    eval_steps=200, # через сколько шагов обновления проводить оценку качества (только при использовании EVAL_STRATEGY=\"steps\")\n",
    "    save_strategy=\"steps\", # как часто сохранять чекпоинты обучения (возможные значения: \"no\", \"steps\", \"epoch\")\n",
    "    save_steps=200, # через сколько шагов обновления сохранять чекпоинт (только при использовании SAVE_STRATEGY=\"steps\")\n",
    "    logging_strategy=\"steps\", # как часто выводить лог обучения (возможные значения: \"no\", \"steps\", \"epoch\")\n",
    "    logging_steps=200, # через сколько шагов обновления выводить лог (только при использовании EVAL_STRATEGY=\"steps\")\n",
    "    warmup_steps=100, # количество шагов, используемое для линейного увеличения learning_rate от 0 до LEARNING_RATE\n",
    "    fp16=False, # работать ли с fp16 вместо fp32\n",
    "    predict_with_generate=True, # использовать ли метод generate для подсчёта генеративных метрик (ROUGE, BLEU)\n",
    "    load_best_model_at_end=True, # возвращать ли лучшую модель в конце обучения\n",
    "    metric_for_best_model=\"bleu\", # название метрики, по которой будет определяться лучшая модель\n",
    "    greater_is_better=True # для LOAD_BEST_MODEL_AT_END и METRIC_FOR_BEST_MODEL, чтобы определить, должна ли метрика увеличиваться\n",
    ")"
   ]
  },
  {
   "cell_type": "code",
   "execution_count": null,
   "metadata": {},
   "outputs": [],
   "source": [
    "trainer = Seq2SeqTrainer(\n",
    "    model=model, # обучаемая модель\n",
    "    args=training_args, # аргументы для обучения\n",
    "    train_dataset=tokenized_dataset[\"train\"], # датасет для обучения\n",
    "    eval_dataset=tokenized_dataset[\"test\"], # датасет для оценки\n",
    "    tokenizer=tokenizer, # токенизатор\n",
    "    data_collator=data_collator, # компоновщик данных для подгрузки при обучении\n",
    "    compute_metrics=compute_metrics, # функция для подсчёта метрик\n",
    ")\n",
    "\n",
    "trainer.train() # запуск обучения"
   ]
  },
  {
   "cell_type": "code",
   "execution_count": 14,
   "metadata": {},
   "outputs": [
    {
     "data": {
      "application/vnd.jupyter.widget-view+json": {
       "model_id": "ba1f79e7f4a44522974558e6fe93430d",
       "version_major": 2,
       "version_minor": 0
      },
      "text/plain": [
       "  0%|          | 0/125 [00:00<?, ?it/s]"
      ]
     },
     "metadata": {},
     "output_type": "display_data"
    },
    {
     "data": {
      "text/plain": [
       "{'eval_loss': 1.6676487922668457,\n",
       " 'eval_bleu': 36.2238,\n",
       " 'eval_gen_len': 41.666,\n",
       " 'eval_runtime': 843.396,\n",
       " 'eval_samples_per_second': 1.186,\n",
       " 'eval_steps_per_second': 0.148,\n",
       " 'epoch': 5.0}"
      ]
     },
     "execution_count": 14,
     "metadata": {},
     "output_type": "execute_result"
    }
   ],
   "source": [
    "trainer.evaluate(tokenized_dataset[\"test\"]) # повтор оценки качества финальной модели"
   ]
  },
  {
   "cell_type": "code",
   "execution_count": 15,
   "metadata": {},
   "outputs": [
    {
     "data": {
      "text/plain": [
       "('./models/summarization/t5_finetuned/tokenizer_config.json',\n",
       " './models/summarization/t5_finetuned/special_tokens_map.json',\n",
       " './models/summarization/t5_finetuned/spiece.model',\n",
       " './models/summarization/t5_finetuned/added_tokens.json',\n",
       " './models/summarization/t5_finetuned/tokenizer.json')"
      ]
     },
     "execution_count": 15,
     "metadata": {},
     "output_type": "execute_result"
    }
   ],
   "source": [
    "model.to(\"cpu\") # возвращаем модель на cpu, если она была на cuda во время обучения\n",
    "model.save_pretrained(\"./models/summarization/t5_finetuned/\") # сохраняем модель после обучения\n",
    "# model == trainer.model\n",
    "tokenizer.save_pretrained(\"./models/summarization/t5_finetuned/\") # сохраняем токенайзер"
   ]
  },
  {
   "cell_type": "code",
   "execution_count": 27,
   "metadata": {},
   "outputs": [],
   "source": [
    "with open(\"./models/summarization/t5_finetuned/log_history.json\", 'w') as f: # открытие файла для записи ('w')\n",
    "    json.dump(trainer.state.log_history, f) # сохраняем в него историю обучения"
   ]
  },
  {
   "cell_type": "markdown",
   "metadata": {},
   "source": [
    "Проверим качество дообученной модели."
   ]
  },
  {
   "cell_type": "code",
   "execution_count": 4,
   "metadata": {},
   "outputs": [],
   "source": [
    "train_loss = []\n",
    "train_epoch = []\n",
    "eval_bleu = []\n",
    "eval_epoch = []\n",
    "\n",
    "for step in trainer.state.log_history:\n",
    "    if \"loss\" in step.keys():\n",
    "        train_loss.append(step[\"loss\"])\n",
    "        train_epoch.append(step[\"epoch\"])\n",
    "    if \"eval_bleu\" in step.keys():\n",
    "        eval_bleu.append(step[\"eval_bleu\"])\n",
    "        eval_epoch.append(step[\"epoch\"])"
   ]
  },
  {
   "cell_type": "code",
   "execution_count": 16,
   "metadata": {},
   "outputs": [
    {
     "data": {
      "image/png": "[encoded data removed]",
      "text/plain": [
       "<Figure size 720x576 with 1 Axes>"
      ]
     },
     "metadata": {
      "needs_background": "light"
     },
     "output_type": "display_data"
    }
   ],
   "source": [
    "plt.figure(figsize=(10,8)) # задание размера графика\n",
    "plt.plot(train_epoch, train_loss, color=\"b\", label='train') # построение CrossEntropyLoss на обучении\n",
    "plt.title('Train loss on epoch') # название графика\n",
    "plt.xlabel('epoch') # подпись по оси x\n",
    "plt.ylabel('loss') # подпись по оси y\n",
    "plt.legend() # вывод названий графиков\n",
    "plt.show() # вывод графика"
   ]
  },
  {
   "cell_type": "code",
   "execution_count": 19,
   "metadata": {},
   "outputs": [
    {
     "data": {
      "image/png": "[encoded data removed]",
      "text/plain": [
       "<Figure size 720x576 with 1 Axes>"
      ]
     },
     "metadata": {
      "needs_background": "light"
     },
     "output_type": "display_data"
    }
   ],
   "source": [
    "plt.figure(figsize=(10,8)) # задание размера графика\n",
    "plt.plot(eval_epoch, eval_bleu, color=\"r\", label='train') # построение CrossEntropyLoss на обучении\n",
    "plt.title('Evaluation BLEU on epoch') # название графика\n",
    "plt.xlabel('epoch') # подпись по оси x\n",
    "plt.ylabel('BLEU') # подпись по оси y\n",
    "plt.legend() # вывод названий графиков\n",
    "plt.show() # вывод графика"
   ]
  },
  {
   "cell_type": "code",
   "execution_count": 28,
   "metadata": {},
   "outputs": [
    {
     "data": {
      "text/plain": [
       "'Зима в этом году в тридевятом царстве случилась особенно холодная. В прошлом году там победил хомяк Жорж, а чей голос окажется круче на этот раз?'"
      ]
     },
     "execution_count": 28,
     "metadata": {},
     "output_type": "execute_result"
    }
   ],
   "source": [
    "summarize(text, model, tokenizer) # результат суммаризации"
   ]
  },
  {
   "cell_type": "markdown",
   "metadata": {},
   "source": [
    "**Результатом обучения стало:**\n",
    "1) модель перестала работать в контексте газетных статей (был проведён domain shift)\n",
    "2) слегка увеличилась метрика BLEU, отражающая качество совпадения предсказания (суммаризации) с ожиданием"
   ]
  },
  {
   "cell_type": "markdown",
   "metadata": {},
   "source": [
    "### Сохраним модель и датасет на Hugging face:"
   ]
  },
  {
   "cell_type": "code",
   "execution_count": 13,
   "metadata": {},
   "outputs": [
    {
     "data": {
      "application/vnd.jupyter.widget-view+json": {
       "model_id": "33884da3cd3444d4b2a28eab1bc3da3a",
       "version_major": 2,
       "version_minor": 0
      },
      "text/plain": [
       "VBox(children=(HTML(value='<center> <img\\nsrc=https://huggingface.co/front/assets/huggingface_logo-noborder.sv…"
      ]
     },
     "metadata": {},
     "output_type": "display_data"
    }
   ],
   "source": [
    "notebook_login() # подключаемся к Hugging Face по токену 'write'"
   ]
  },
  {
   "cell_type": "code",
   "execution_count": 8,
   "metadata": {},
   "outputs": [
    {
     "data": {
      "application/vnd.jupyter.widget-view+json": {
       "model_id": "88a0dcfe69b34f948e6cd5e33f46c705",
       "version_major": 2,
       "version_minor": 0
      },
      "text/plain": [
       "model.safetensors:   0%|          | 0.00/977M [00:00<?, ?B/s]"
      ]
     },
     "metadata": {},
     "output_type": "display_data"
    },
    {
     "data": {
      "text/plain": [
       "CommitInfo(commit_url='https://huggingface.co/KabanovDenis/t5_ru_finetuned/commit/fb3c3f0fec9928d63ed9931fafc13efa9f9b77b6', commit_message='Upload T5ForConditionalGeneration', commit_description='', oid='fb3c3f0fec9928d63ed9931fafc13efa9f9b77b6', pr_url=None, pr_revision=None, pr_num=None)"
      ]
     },
     "execution_count": 8,
     "metadata": {},
     "output_type": "execute_result"
    }
   ],
   "source": [
    "model.push_to_hub(\"t5_ru_finetuned\") # сохраняем модель на Hugging Face"
   ]
  },
  {
   "cell_type": "code",
   "execution_count": 9,
   "metadata": {},
   "outputs": [
    {
     "data": {
      "application/vnd.jupyter.widget-view+json": {
       "model_id": "b813c75cd8ec4fe1aa958e117b785ee2",
       "version_major": 2,
       "version_minor": 0
      },
      "text/plain": [
       "spiece.model:   0%|          | 0.00/828k [00:00<?, ?B/s]"
      ]
     },
     "metadata": {},
     "output_type": "display_data"
    },
    {
     "data": {
      "text/plain": [
       "CommitInfo(commit_url='https://huggingface.co/KabanovDenis/t5_ru_finetuned/commit/b10b24fdd3b6bc4dc8e4b25b239af7aaf0764710', commit_message='Upload tokenizer', commit_description='', oid='b10b24fdd3b6bc4dc8e4b25b239af7aaf0764710', pr_url=None, pr_revision=None, pr_num=None)"
      ]
     },
     "execution_count": 9,
     "metadata": {},
     "output_type": "execute_result"
    }
   ],
   "source": [
    "tokenizer.push_to_hub(\"t5_ru_finetuned\") # сохраняем токенайзер на Hugging Face"
   ]
  },
  {
   "cell_type": "code",
   "execution_count": 12,
   "metadata": {},
   "outputs": [
    {
     "data": {
      "application/vnd.jupyter.widget-view+json": {
       "model_id": "b8241022562a47f1923442d0a3b854d6",
       "version_major": 2,
       "version_minor": 0
      },
      "text/plain": [
       "Uploading the dataset shards:   0%|          | 0/1 [00:00<?, ?it/s]"
      ]
     },
     "metadata": {},
     "output_type": "display_data"
    },
    {
     "data": {
      "application/vnd.jupyter.widget-view+json": {
       "model_id": "a8b67fd951a046259d94b2811421f2ab",
       "version_major": 2,
       "version_minor": 0
      },
      "text/plain": [
       "Creating parquet from Arrow format:   0%|          | 0/207 [00:00<?, ?ba/s]"
      ]
     },
     "metadata": {},
     "output_type": "display_data"
    },
    {
     "data": {
      "application/vnd.jupyter.widget-view+json": {
       "model_id": "705eea657320474d95b9b1d28e8ea7d7",
       "version_major": 2,
       "version_minor": 0
      },
      "text/plain": [
       "Uploading the dataset shards:   0%|          | 0/1 [00:00<?, ?it/s]"
      ]
     },
     "metadata": {},
     "output_type": "display_data"
    },
    {
     "data": {
      "application/vnd.jupyter.widget-view+json": {
       "model_id": "b45f46b94d2447efa1042569d581c27a",
       "version_major": 2,
       "version_minor": 0
      },
      "text/plain": [
       "Creating parquet from Arrow format:   0%|          | 0/52 [00:00<?, ?ba/s]"
      ]
     },
     "metadata": {},
     "output_type": "display_data"
    },
    {
     "data": {
      "text/plain": [
       "CommitInfo(commit_url='https://huggingface.co/datasets/KabanovDenis/MultiSim_ru/commit/a7ef4890e4ccc88df21409fc6c2ecd0ee7ed2bd6', commit_message='Upload dataset', commit_description='', oid='a7ef4890e4ccc88df21409fc6c2ecd0ee7ed2bd6', pr_url=None, pr_revision=None, pr_num=None)"
      ]
     },
     "execution_count": 12,
     "metadata": {},
     "output_type": "execute_result"
    }
   ],
   "source": [
    "dataset.push_to_hub(\"MultiSim_ru\") # сохраняем датасет на Hugging Face"
   ]
  },
  {
   "cell_type": "markdown",
   "metadata": {},
   "source": [
    "# Шаг 3: конвертация текста в эмодзи"
   ]
  },
  {
   "cell_type": "markdown",
   "metadata": {},
   "source": [
    "<b>\n",
    "Цель: рассмотреть варианты конвертации полученного саммари в последовательность эмодзи. \n",
    "</b>"
   ]
  },
  {
   "cell_type": "markdown",
   "metadata": {},
   "source": [
    "## Вариант 1: простое ручное конвертирование текста в эмодзи"
   ]
  },
  {
   "cell_type": "markdown",
   "metadata": {},
   "source": [
    "Библиотеки, поддерживающие работу с эмодзи: emoji, emojis, emoji-translate, vader-sentiment... Однако только emoji имеет среди распознаваемых языков — русский."
   ]
  },
  {
   "cell_type": "code",
   "execution_count": 30,
   "metadata": {},
   "outputs": [
    {
     "data": {
      "text/plain": [
       "'✈️ пролетел над городом n и приземлился'"
      ]
     },
     "execution_count": 30,
     "metadata": {},
     "output_type": "execute_result"
    }
   ],
   "source": [
    "text = \"Самолёт пролетел над городом N и приземлился...\"\n",
    "text = text.lower()\n",
    "text = text.replace(\"ё\", \"е\")\n",
    "text = re.sub('[^\\w\\s]', ' ', text).split()\n",
    "text = \":\" + \": :\".join(text) + \":\"\n",
    "\n",
    "text = emoji.emojize(text, language=\"ru\", )\n",
    "text = text.replace(\":\", \"\")\n",
    "text"
   ]
  },
  {
   "cell_type": "markdown",
   "metadata": {},
   "source": [
    "#### Вывод: такая конвертация малопригодна для задачи, так как только малое число слов идеально совпадает с названиями эмодзи."
   ]
  },
  {
   "cell_type": "markdown",
   "metadata": {},
   "source": [
    "## Вариант 2: использование специально обученной модели"
   ]
  },
  {
   "cell_type": "markdown",
   "metadata": {},
   "source": [
    "Среди таких моделей можно рассмотреть torchMoji (deepMoji) и Text_to_Emoji (https://github.com/niladridutt/Text_to_Emoji?tab=readme-ov-file), обе работают только с английским языком."
   ]
  },
  {
   "cell_type": "code",
   "execution_count": 14,
   "metadata": {},
   "outputs": [],
   "source": [
    "ROOT_PATH = \"./models/convertation/\" # корневой путь\n",
    "VOCAB_PATH = f'{ROOT_PATH}/torchmoji/vocabulary.json' # руть до словаря, нужен для токенизации\n",
    "PRETRAINED_PATH = f'{ROOT_PATH}/torchmoji/torchMoji.bin' # путь до обученной модели\n",
    "\n",
    "EMOJIS = \":joy: :unamused: :weary: :sob: :heart_eyes: \\\n",
    ":pensive: :ok_hand: :blush: :heart: :smirk: \\\n",
    ":grin: :notes: :flushed: :100: :sleeping: \\\n",
    ":relieved: :relaxed: :raised_hands: :two_hearts: :expressionless: \\\n",
    ":sweat_smile: :pray: :confused: :kissing_heart: :heartbeat: \\\n",
    ":neutral_face: :information_desk_person: :disappointed: :see_no_evil: :tired_face: \\\n",
    ":v: :sunglasses: :rage: :thumbsup: :cry: \\\n",
    ":sleepy: :yum: :triumph: :hand: :mask: \\\n",
    ":clap: :eyes: :gun: :persevere: :smiling_imp: \\\n",
    ":sweat: :broken_heart: :yellow_heart: :musical_note: :speak_no_evil: \\\n",
    ":wink: :skull: :confounded: :smile: :stuck_out_tongue_winking_eye: \\\n",
    ":angry: :no_good: :muscle: :facepunch: :purple_heart: \\\n",
    ":sparkling_heart: :blue_heart: :grimacing: :sparkles:\".split(' ') # эмодзи, поддерживаемые моделью"
   ]
  },
  {
   "cell_type": "code",
   "execution_count": 15,
   "metadata": {},
   "outputs": [],
   "source": [
    "sys.path.append(ROOT_PATH) # добавляем путь до моделей в PATH"
   ]
  },
  {
   "cell_type": "code",
   "execution_count": 50,
   "metadata": {},
   "outputs": [
    {
     "data": {
      "text/plain": [
       "TorchMoji(\n",
       "  (embed): Embedding(50000, 256)\n",
       "  (embed_dropout): Dropout2d(p=0, inplace=False)\n",
       "  (lstm_0): LSTMHardSigmoid(256, 512, batch_first=True, bidirectional=True)\n",
       "  (lstm_1): LSTMHardSigmoid(1024, 512, batch_first=True, bidirectional=True)\n",
       "  (attention_layer): Attention(2304, return attention=False)\n",
       "  (final_dropout): Dropout(p=0, inplace=False)\n",
       "  (output_layer): Sequential(\n",
       "    (0): Linear(in_features=2304, out_features=64, bias=True)\n",
       "    (1): Softmax(dim=None)\n",
       "  )\n",
       ")"
      ]
     },
     "execution_count": 50,
     "metadata": {},
     "output_type": "execute_result"
    }
   ],
   "source": [
    "model_torchmoji = torchmoji_emojis(PRETRAINED_PATH) # загрузка предобученной модели\n",
    "model_torchmoji # вывод строения модели"
   ]
  },
  {
   "cell_type": "code",
   "execution_count": 19,
   "metadata": {},
   "outputs": [
    {
     "data": {
      "text/plain": [
       "[('CUSTOM_MASK', 0),\n",
       " ('CUSTOM_UNKNOWN', 1),\n",
       " ('CUSTOM_AT', 2),\n",
       " ('CUSTOM_URL', 3),\n",
       " ('CUSTOM_NUMBER', 4),\n",
       " ('CUSTOM_BREAK', 5),\n",
       " ('CUSTOM_BLANK_6', 6),\n",
       " ('CUSTOM_BLANK_7', 7),\n",
       " ('CUSTOM_BLANK_8', 8),\n",
       " ('CUSTOM_BLANK_9', 9),\n",
       " ('the', 10),\n",
       " ('.', 11),\n",
       " ('and', 12),\n",
       " ('you', 13),\n",
       " (',', 14),\n",
       " ('a', 15),\n",
       " ('for', 16),\n",
       " ('to', 17),\n",
       " ('i', 18),\n",
       " ('!', 19)]"
      ]
     },
     "execution_count": 19,
     "metadata": {},
     "output_type": "execute_result"
    }
   ],
   "source": [
    "with open(VOCAB_PATH, 'r') as f: # открываем файл со словарём модели\n",
    "    vocabulary = json.load(f) # загружаем словарь\n",
    "list(vocabulary.items())[:20] # первые 20 элементов словаря (токенов)"
   ]
  },
  {
   "cell_type": "code",
   "execution_count": 54,
   "metadata": {},
   "outputs": [
    {
     "data": {
      "text/plain": [
       "array([[   15,  2115,   389,    44,   748,  2323,    36,    15,  3393,\n",
       "         2371,    14,   176,  6582,  2169,   858,   511,    99,  1532,\n",
       "        17189,  9542,    97,     1,    10,  7841,   526,    17,  6774,\n",
       "         2405,     1,    11,    63,    10,  1802,  3467,    14,  1209,\n",
       "            1,    99,  1820, 19736,    97,    14, 13727, 12895,   580,\n",
       "           14,   189,  2585,    17,   340,     1,   109,    10, 43549,\n",
       "         3744,  3941,    11,     0,     0,     0,     0,     0,     0,\n",
       "            0,     0,     0,     0,     0,     0,     0,     0,     0,\n",
       "            0,     0,     0,     0,     0,     0,     0,     0,     0,\n",
       "            0,     0,     0,     0,     0,     0,     0,     0,     0,\n",
       "            0,     0,     0,     0,     0,     0,     0,     0,     0,\n",
       "            0]], dtype=uint16)"
      ]
     },
     "execution_count": 54,
     "metadata": {},
     "output_type": "execute_result"
    }
   ],
   "source": [
    "text = \"A tale set on death row in a Southern jail, where gentle giant John Coffee (Michael Clarke Duncan) possesses the mysterious power to heal people's ailments. When the lead guard, Paul Edgecombe (Tom Hanks), recognizes John's gift, he tries to help stave off the condemned man's execution.\" # текстовый пример\n",
    "\n",
    "sentence_tokenizer = SentenceTokenizer(vocabulary, 100) # объект токенайзера, требует указания словаря и числа токенов\n",
    "\n",
    "tokenized, _, _ = sentence_tokenizer.tokenize_sentences([text, ]) # токенизируем текст\n",
    "tokenized # пример полученных токенов"
   ]
  },
  {
   "cell_type": "code",
   "execution_count": 29,
   "metadata": {},
   "outputs": [
    {
     "data": {
      "text/plain": [
       "array([0.00826604, 0.00794725, 0.00388433, 0.00444268, 0.00250981,\n",
       "       0.01025149, 0.00719884, 0.0085858 , 0.01724289, 0.00555669,\n",
       "       0.00797884, 0.02316808, 0.02480408, 0.00709422, 0.00218912,\n",
       "       0.00350395, 0.00767403, 0.01006989, 0.00342063, 0.02203122,\n",
       "       0.01141116, 0.02512378, 0.03316531, 0.00193796, 0.02461221,\n",
       "       0.032507  , 0.00186689, 0.02046843, 0.00663869, 0.00528804,\n",
       "       0.01512323, 0.0126198 , 0.0813021 , 0.02874656, 0.03152588,\n",
       "       0.00842565, 0.00332252, 0.02005173, 0.00240824, 0.00955561,\n",
       "       0.01205385, 0.01638797, 0.01766201, 0.02012684, 0.03690895,\n",
       "       0.01790947, 0.02698752, 0.01898514, 0.00781498, 0.00443472,\n",
       "       0.02008365, 0.02816985, 0.02341518, 0.01876715, 0.02068366,\n",
       "       0.05879206, 0.00465287, 0.01031846, 0.01625735, 0.00929255,\n",
       "       0.00573174, 0.01060102, 0.02345336, 0.00658895], dtype=float32)"
      ]
     },
     "execution_count": 29,
     "metadata": {},
     "output_type": "execute_result"
    }
   ],
   "source": [
    "prob = model_torchmoji(tokenized)[0] # получаем вероятности эмодзи (модель поддерживает 64 эмодзи)\n",
    "prob"
   ]
  },
  {
   "cell_type": "code",
   "execution_count": 48,
   "metadata": {},
   "outputs": [
    {
     "name": "stdout",
     "output_type": "stream",
     "text": [
      "A tale set on death row in a Southern jail, where gentle giant John Coffee (Michael Clarke Duncan) possesses the mysterious power to heal people's ailments. When the lead guard, Paul Edgecombe (Tom Hanks), recognizes John's gift, he tries to help stave off the condemned man's execution.\n",
      "😡 😠 😈 😕 😐 😢 👍 💀 💔 🙏\n"
     ]
    }
   ],
   "source": [
    "def top_elements(array, k):\n",
    "    ind = np.argpartition(array, -k)[-k:] # индексы k элементов с самым большим значением (не отсортированы по значениям)\n",
    "    return ind[np.argsort(array[ind])][::-1] # возвращаем уже отсортированные индексы\n",
    "\n",
    "emoji_ids = top_elements(prob, 10) # берём id самых вероятных эмодзи\n",
    "\n",
    "emojis = map(lambda x: EMOJIS[x], emoji_ids) # мапа с самыми вероятными эмодзи \n",
    "\n",
    "print(text) # вывоодим текст \n",
    "print(emoji.emojize(f\"{' '.join(emojis)}\", language='alias')) # вывоодим эмодзи"
   ]
  },
  {
   "cell_type": "markdown",
   "metadata": {},
   "source": [
    "#### Вывод: модель torchMoji (deepMoji) не подходит для задания, так как:\n",
    "* конвертирует эмоциональный посыл текста в эмодзи, а не сам текст \n",
    "* токенизатор работает только с английским языком (в словаре отсутствуют токены для русского языка)"
   ]
  },
  {
   "cell_type": "markdown",
   "metadata": {},
   "source": [
    "## Вариант 3: ручное преобразование текста в эмодзи с использованием лемматизации и векторизации"
   ]
  },
  {
   "cell_type": "markdown",
   "metadata": {},
   "source": [
    "*На примере описания без суммаризации*"
   ]
  },
  {
   "cell_type": "markdown",
   "metadata": {},
   "source": [
    "### Очистка, Лемматизация и Токенизация"
   ]
  },
  {
   "cell_type": "code",
   "execution_count": 169,
   "metadata": {},
   "outputs": [
    {
     "name": "stdout",
     "output_type": "stream",
     "text": [
      "['и', 'в', 'во', 'не', 'что', 'он', 'на', 'я', 'с', 'со', 'как', 'а', 'то', 'все', 'она', 'так', 'его', 'но', 'да', 'ты', 'к', 'у', 'же', 'вы', 'за', 'бы', 'по', 'только', 'ее', 'мне', 'было', 'вот', 'от', 'меня', 'еще', 'нет', 'о', 'из', 'ему', 'теперь', 'когда', 'даже', 'ну', 'вдруг', 'ли', 'если', 'уже', 'или', 'ни', 'быть', 'был', 'него', 'до', 'вас', 'нибудь', 'опять', 'уж', 'вам', 'ведь', 'там', 'потом', 'себя', 'ничего', 'ей', 'может', 'они', 'тут', 'где', 'есть', 'надо', 'ней', 'для', 'мы', 'тебя', 'их', 'чем', 'была', 'сам', 'чтоб', 'без', 'будто', 'чего', 'раз', 'тоже', 'себе', 'под', 'будет', 'ж', 'тогда', 'кто', 'этот', 'того', 'потому', 'этого', 'какой', 'совсем', 'ним', 'здесь', 'этом', 'один', 'почти', 'мой', 'тем', 'чтобы', 'нее', 'сейчас', 'были', 'куда', 'зачем', 'всех', 'никогда', 'можно', 'при', 'наконец', 'два', 'об', 'другой', 'хоть', 'после', 'над', 'больше', 'тот', 'через', 'эти', 'нас', 'про', 'всего', 'них', 'какая', 'много', 'разве', 'три', 'эту', 'моя', 'впрочем', 'хорошо', 'свою', 'этой', 'перед', 'иногда', 'лучше', 'чуть', 'том', 'нельзя', 'такой', 'им', 'более', 'всегда', 'конечно', 'всю', 'между', 'тот']\n"
     ]
    }
   ],
   "source": [
    "with open('./data/movies_base.json', 'r') as f: # открываем файл для чтения ('r')\n",
    "    movies = json.load(f) # загружаем данные\n",
    "\n",
    "nlp_model = spacy.load('ru_core_news_sm') # загружаем модель для обработки текста (\"ru_core_news_sm\" — обучена для русского языка)\n",
    "\n",
    "stop_words = stopwords.words('russian') # список стоп-слов для русского языка\n",
    "for add_stop in [\"тот\"]: # идём по дополнительным стоп-словам\n",
    "    stop_words.append(add_stop) # добавляем стоп-слово\n",
    "print(stop_words) # вывод стоп-слов"
   ]
  },
  {
   "cell_type": "code",
   "execution_count": 170,
   "metadata": {},
   "outputs": [],
   "source": [
    "for movie in movies: # идём по мультфильмам\n",
    "    movie[\"tokens\"] = [] # список под токены мультфильма\n",
    "\n",
    "    for section in [\"description\", \"title\"]: # какие данные будут токенизированы\n",
    "        text = movie[section].lower() # приводим текст к нижнему регистру\n",
    "        text = re.sub(r\"[,.…?“/!@#$1234567890#—ツ►๑۩۞۩•*”˜˜”*°°*`)(]\", '', text) # удаляем ненужные символы из текста\n",
    "        tokens = nlp_model(text) # обрабатываем текст моделью (заготавливаем \"токены\")\n",
    "        for token in tokens: # идём по полученным токенам\n",
    "            if token.lemma_ not in stop_words: # проверяем, входит ли токен (его лемма) в список стоп-слов\n",
    "                movie[\"tokens\"].append([token.text, token.lemma_, token.pos_]) # добавляем токен к данным о мультфильме (само слово, его лемма, тег части речи)"
   ]
  },
  {
   "cell_type": "code",
   "execution_count": 171,
   "metadata": {},
   "outputs": [
    {
     "name": "stdout",
     "output_type": "stream",
     "text": [
      "шрэк  -  шрэк - NOUN - noun\n",
      "фиона  -  фиона - NOUN - noun\n",
      "возвращаются  -  возвращаться - VERB - verb\n",
      "медового  -  медовый - ADJ - adjective\n",
      "месяца  -  месяц - NOUN - noun\n",
      "находят  -  находить - VERB - verb\n",
      "письмо  -  письмо - NOUN - noun\n",
      "родителей  -  родитель - NOUN - noun\n",
      "фионы  -  фионы - NOUN - noun\n",
      "приглашением  -  приглашение - NOUN - noun\n",
      "ужин  -  ужин - NOUN - noun\n",
      "однако  -  однако - ADV - adverb\n",
      "подозревают  -  подозревать - VERB - verb\n",
      "дочь  -  дочь - NOUN - noun\n",
      "стала  -  стать - VERB - verb\n",
      "огром  -  огром - NOUN - noun\n",
      "вместе  -  вместе - ADV - adverb\n",
      "осликом  -  ослик - NOUN - noun\n",
      "счастливая  -  счастливый - ADJ - adjective\n",
      "пара  -  пара - NOUN - noun\n",
      "отправляется  -  отправляться - VERB - verb\n",
      "путешествие  -  путешествие - NOUN - noun\n",
      "полное  -  полный - ADJ - adjective\n",
      "неожиданностей  -  неожиданность - NOUN - noun\n",
      "попадает  -  попадать - VERB - verb\n",
      "круговорот  -  круговорот - NOUN - noun\n",
      "событий  -  событие - NOUN - noun\n",
      "время  -  время - NOUN - noun\n",
      "которых  -  которых - PRON - pronoun\n",
      "приобретает  -  приобретать - VERB - verb\n",
      "множество  -  множество - NOUN - noun\n",
      "друзей  -  друг - NOUN - noun\n",
      "шрэк  -  шрэк - NOUN - noun\n"
     ]
    }
   ],
   "source": [
    "for token in movies[15][\"tokens\"]: # пример получившихся токенов\n",
    "    print(token[0],' - ', token[1], '-', token[2], '-', spacy.explain(token[2]))"
   ]
  },
  {
   "cell_type": "markdown",
   "metadata": {},
   "source": [
    "### Векторизация"
   ]
  },
  {
   "cell_type": "markdown",
   "metadata": {},
   "source": [
    "Варианты векторизации: Count Vectorizer, TF-IDF, Word2Vec, GloVe, RusVectōrēs, FastText, Navec.\n",
    "\n",
    "\n",
    "Однако остановимся на Navec, так как он компактный (легко умещается в память оперативную/физическую), хоть и имеет огромный словарь, и заточен под работу с русским языком.\n",
    "\n",
    "\n",
    "По метрикам \"Spearman correlation\" и \"average precision\" Navec находится в топе среди векторизационных моделей.\n",
    "\n",
    "\n",
    "Словарь Navec содержит 500000 слов, представленных в виде векторов размерности 300 (https://github.com/natasha/navec?tab=readme-ov-file). "
   ]
  },
  {
   "cell_type": "code",
   "execution_count": 39,
   "metadata": {},
   "outputs": [],
   "source": [
    "navec = Navec.load(\"./models/convertation/navec/navec_hudlit_v1_12B_500K_300d_100q.tar\") # загружаем вектора\n",
    "# navec_hudlit_v1_12B_500K_300d_100q.tar\n",
    "#                  |    |    |    |\n",
    "#                  |    |    |     ---- 100 dimentions after quantization\n",
    "#                  |    |     --------- original vectors have 300 dimentions\n",
    "#                  |     -------------- vocab size is 500 000 words + 2 for <unk>, <pad>\n",
    "#                   ------------------- dataset of 12 billion tokens was used"
   ]
  },
  {
   "cell_type": "markdown",
   "metadata": {},
   "source": [
    "Сначала сконвертируем эмодзи в вектора."
   ]
  },
  {
   "cell_type": "code",
   "execution_count": 40,
   "metadata": {},
   "outputs": [],
   "source": [
    "emojis = {\"emojis\": [], \"names\": [], \"vectors\": []} # словарь с данными про эмодзи вида\n",
    "# {\n",
    "#  \"emojis\": [символы эмодзи],\n",
    "#  \"names\": [названия эмодзи],\n",
    "#  \"vectors\": [векторное представление эмодзи]\n",
    "# }\n",
    "\n",
    "for e in emoji.EMOJI_DATA.keys(): # идём по всем эмодзи\n",
    "    emoji_text = emoji.EMOJI_DATA[e][\"ru\"].lower() # берём название эмодзи на русском (например \":золотая медаль:\")\n",
    "    emoji_text = emoji_text.replace(\"_\", \" \").replace(\"-\", \" \") # заменяем символы \"_\" и \"-\" на пробел\n",
    "    emoji_text = re.sub(r\"[,.…?“/!@#$1234567890#—ツ►๑۩۞۩•*”˜˜”*°°*`)(:«»\\\"]\", '', emoji_text) # удаляем ненужные символы\n",
    "\n",
    "    emoji_vector = np.zeros(300, dtype=np.float32) # начальный вектор для кодирования эмодзи\n",
    "    emoji_tokens = nlp_model(emoji_text) # обрабатываем название эмодзи (получаем токены с леммами...)\n",
    "    try:\n",
    "        for token in emoji_tokens: # получаем токены из названия и идём по ним\n",
    "            if token.lemma_ in navec: # если лемма токена известна векторизатору\n",
    "                emoji_vector += navec[token.lemma_] # добавляем вектор леммы\n",
    "            elif token.text in navec: # если текст токена известен векторизатору (не лемма, так как в лемме буква \"е\" заменяется на \"ё\")\n",
    "                emoji_vector += navec[token.text] # добавляем вектор леммы\n",
    "            elif re.sub(r\"[аеиоуыя]и\", lambda m: m.group(0)[0] + \"й\", token.lemma_) in navec: # если в токене вместо \"й\" (а перед ней гласные) идёт \"и\", то пробуем заменить\n",
    "                emoji_vector += navec[re.sub(r\"[аеиоуыя]и\", lambda m: m.group(0)[0] + \"й\", token.lemma_)] # добавляем вектор слова (не леммы)\n",
    "            else:\n",
    "                raise RuntimeError(\"Word not in model!\") # пропускаем эмодзи, если не смогли полностью преобразовать его в вектор\n",
    "            #     emoji_vector += navec['<unk>'] # добавляем вектор неизвестного символа\n",
    "    except RuntimeError as error:\n",
    "        if str(error) == \"Word not in model!\":\n",
    "            continue # переходим к следующему эмодзи\n",
    "        else:\n",
    "            raise\n",
    "    emojis[\"emojis\"].append(e) # добавляем символ эмодзи\n",
    "    emojis[\"names\"].append(emoji.EMOJI_DATA[e][\"ru\"]) # добавляем название эмодзи\n",
    "    emojis[\"vectors\"].append(emoji_vector.tolist()) # сохраняем посчитанный вектор эмодзи (не делим на число токенов, так как нам всё равно будет нужен угол)"
   ]
  },
  {
   "cell_type": "code",
   "execution_count": 41,
   "metadata": {},
   "outputs": [],
   "source": [
    "with open('./data/emojis.json', 'w') as f: # открытие файла для записи ('w')\n",
    "    json.dump(emojis, f) # сохраняем в него данные о эмодзи и соответствующих векторах"
   ]
  },
  {
   "cell_type": "markdown",
   "metadata": {},
   "source": [
    "Теперь текст описания мультфильмов."
   ]
  },
  {
   "cell_type": "code",
   "execution_count": 172,
   "metadata": {},
   "outputs": [],
   "source": [
    "for movie in movies: # идём по мультфильмам\n",
    "    movie[\"vectors\"] = [] # вектор под токены описания\n",
    "    for token in movie[\"tokens\"]: # идём по токенам описания\n",
    "        if token[1] in navec: # если лемма токена известна векторизатору\n",
    "            movie[\"vectors\"].append([navec[token[1]].tolist(), token[1]]) # добавляем запись [вектор леммы, лемма]\n",
    "        elif token[0] in navec: # если текст токена известен векторизатору (не лемма, так как в лемме буква \"е\" заменяется на \"ё\")\n",
    "            movie[\"vectors\"].append([navec[token[0]].tolist(), token[0]]) # добавляем запись [вектор слова, слово]"
   ]
  },
  {
   "cell_type": "markdown",
   "metadata": {},
   "source": [
    "Для подсчёта схожести слов будем рассчитывать косинусную близость (сходство) их векторов:\n",
    "$$\n",
    "\\frac{<u, v>}{||u||_2*||v||_2}\n",
    "$$\n",
    "то есть, чем слова более схожи по смыслу, тем ближе друг к другу находятся их вектора, тем меньше угол между ними, тем больше значение косинусной близости, так как *cos(0)=1*."
   ]
  },
  {
   "cell_type": "code",
   "execution_count": 43,
   "metadata": {},
   "outputs": [],
   "source": [
    "def cosine_similarity(v1: np.array, v2: np.array): # функция для подсчёта косинусной близости между векторами\n",
    "    return np.dot(v1, v2)/(np.linalg.norm(v1, ord=2, axis=-1) * np.linalg.norm(v2, ord=2)) # возвращаем косинусное сходство (axis=-1 ~ фиксируем последнюю размерность (столбцы) и идём по строкам)"
   ]
  },
  {
   "cell_type": "markdown",
   "metadata": {},
   "source": [
    "Сконвертируем все слова в наиболее подходящие эмодзи, отсеим повторяющиеся и те, у которых косинусная близость меньше порога."
   ]
  },
  {
   "cell_type": "code",
   "execution_count": 68,
   "metadata": {},
   "outputs": [],
   "source": [
    "min_similarity = 0.76 # минимальная косинусная близость, чтобы оставить эмодзи"
   ]
  },
  {
   "cell_type": "code",
   "execution_count": 173,
   "metadata": {},
   "outputs": [],
   "source": [
    "for movie in movies: # идём по мультфильмам\n",
    "    movie[\"emojis\"] = [] # заготавливаем место под эмодзи\n",
    "    \n",
    "    for vector in movie[\"vectors\"]: # идём по векторам токенов\n",
    "        similarity = cosine_similarity(emojis[\"vectors\"], vector[0]) # считаем косинусную близость вектора токена (vector[0], под 1 идёт сам токен) ко всем векторам эмодзи\n",
    "        most_similar = np.argmax(similarity) # находим индекс наибольшего получившегося косинуса угла (самое вероятное эмодзи)\n",
    "        if (similarity[most_similar] > min_similarity) and (emojis[\"emojis\"][most_similar] not in [e[0] for e in movie[\"emojis\"]]): # если эмодзи проходит порог на схожесть со словом и его ещё нет в списке эмодзи (или список эмодзи пуст) рассматриваемого фильма (movie[\"emojis\"][:,0] — добавленные значки эмодзи)\n",
    "            # print(vector[1], emojis[\"names\"][most_similar], emojis[\"emojis\"][most_similar], similarity[most_similar])\n",
    "            movie[\"emojis\"].append([emojis[\"emojis\"][most_similar], similarity[most_similar], vector[1]]) # добавляем запись о самом вероятном эмодзи для слова, соответствующий ему угол и само слово\n",
    "    # del movie[\"vectors\"] # удаляем данные о векторах токенов для обработанных фильмов"
   ]
  },
  {
   "cell_type": "code",
   "execution_count": 38,
   "metadata": {},
   "outputs": [],
   "source": [
    "movies = [movie for movie in movies if len(movie[\"emojis\"]) >= 2] # оставляем только те мультфильмы, у которых есть хотя бы 2 эмодзи"
   ]
  },
  {
   "cell_type": "code",
   "execution_count": 40,
   "metadata": {},
   "outputs": [],
   "source": [
    "# Данные о мультфильмах теперь в формате:\n",
    "# [{\n",
    "#   \"title\": название фильма, \n",
    "#   \"description\": описание, \n",
    "#   \"categories\": [категории], \n",
    "#   \"year\": год выхода,\n",
    "#   \"directors\": [режиссёры], \n",
    "#   \"actors\": [известные актёры], \n",
    "#   \"tagline\": слоган,\n",
    "#   \"hint\": [цифра в названии],\n",
    "#   \"movie_url\": ссылка на страницу фильма,\n",
    "#   \"tokens\": [[слово, лемма, часть речи], ...],\n",
    "#   \"vectors\": [[вектор размерности 300; токен, что он кодирует], ...],\n",
    "#   \"emojis\": [[символ эмодзи; косинусная близость; слово],...],\n",
    "#  }, ...\n",
    "# ]\n",
    "\n",
    "with open('./data/movies_base_emoj.json', 'w') as f: # открытие файла для записи ('w')\n",
    "    json.dump(movies, f) # сохраняем в него данные о фильмах"
   ]
  },
  {
   "cell_type": "markdown",
   "metadata": {},
   "source": [
    "# Шаг 4: сравнение качества"
   ]
  },
  {
   "cell_type": "markdown",
   "metadata": {},
   "source": [
    "Для этого сравним получившиеся эмодзи представления при суммаризации обычной моделью, дообученной и вообще без суммаризации."
   ]
  },
  {
   "cell_type": "code",
   "execution_count": 94,
   "metadata": {},
   "outputs": [],
   "source": [
    "all_movies = {} # список под списки мультфильмов (для одновременного сравнения качества)\n",
    "for file_name in [\"base\", \"t5\", \"t5_finetuned\"]:\n",
    "    with open(f\"./data/movies_{file_name}_emoj.json\", 'r') as f: # открываем файл для чтения ('r')\n",
    "        all_movies[file_name] = json.load(f) # загружаем данные о мультфильмах"
   ]
  },
  {
   "cell_type": "code",
   "execution_count": 80,
   "metadata": {},
   "outputs": [
    {
     "name": "stdout",
     "output_type": "stream",
     "text": [
      "Число мультфильмов в датасете 'base': 211\n",
      "Число мультфильмов в датасете 't5': 136\n",
      "Число мультфильмов в датасете 't5_finetuned': 157\n"
     ]
    }
   ],
   "source": [
    "for var in all_movies.keys():\n",
    "    print(f\"Число мультфильмов в датасете '{var}': {len(all_movies[var])}\")"
   ]
  },
  {
   "cell_type": "markdown",
   "metadata": {},
   "source": [
    "* Без суммаризации сконвертироваться в эмодзи смогли 211 из 250 описаний мультфильмов.\n",
    "* Сразу можно заметить, что при использовании \"готовой\" модели много (114!) мультфильмов (на 75 больше, чем без суммаризации) не смогли сконвертироваться в хотя бы 2 эмодзи.\n",
    "* Для дообученной модели ситуаци обстоит лучше, там сконвертироваться в эмодзи не смогли лишь 93 фильма, что всё ещё уступает конвертации без суммаризации на 54."
   ]
  },
  {
   "cell_type": "markdown",
   "metadata": {},
   "source": [
    "**Проверим различия в данных**"
   ]
  },
  {
   "cell_type": "code",
   "execution_count": 56,
   "metadata": {},
   "outputs": [],
   "source": [
    "all_movies_titles = {} # словарь под названия мультфильмов для каждого варианта предобработки описания\n",
    "for var1 in all_movies.keys(): # идём по всем вариантам суммаризации\n",
    "    all_movies_titles[var] = set() # set для названий мультфильмов (для каждого варианта)\n",
    "    for movie in all_movies[var]: # идём по элементам датасета\n",
    "        all_movies_titles[var].add(movie[\"title\"]) # добавляем \"title\" в set рассматриваемого варианта"
   ]
  },
  {
   "cell_type": "code",
   "execution_count": 68,
   "metadata": {},
   "outputs": [
    {
     "data": {
      "text/html": [
       "<div>\n",
       "<style scoped>\n",
       "    .dataframe tbody tr th:only-of-type {\n",
       "        vertical-align: middle;\n",
       "    }\n",
       "\n",
       "    .dataframe tbody tr th {\n",
       "        vertical-align: top;\n",
       "    }\n",
       "\n",
       "    .dataframe thead th {\n",
       "        text-align: right;\n",
       "    }\n",
       "</style>\n",
       "<table border=\"1\" class=\"dataframe\">\n",
       "  <thead>\n",
       "    <tr style=\"text-align: right;\">\n",
       "      <th></th>\n",
       "      <th>base</th>\n",
       "      <th>t5</th>\n",
       "      <th>t5_finetuned</th>\n",
       "    </tr>\n",
       "  </thead>\n",
       "  <tbody>\n",
       "    <tr>\n",
       "      <th>base</th>\n",
       "      <td>0</td>\n",
       "      <td>81</td>\n",
       "      <td>59</td>\n",
       "    </tr>\n",
       "    <tr>\n",
       "      <th>t5</th>\n",
       "      <td>6</td>\n",
       "      <td>0</td>\n",
       "      <td>23</td>\n",
       "    </tr>\n",
       "    <tr>\n",
       "      <th>t5_finetuned</th>\n",
       "      <td>5</td>\n",
       "      <td>44</td>\n",
       "      <td>0</td>\n",
       "    </tr>\n",
       "  </tbody>\n",
       "</table>\n",
       "</div>"
      ],
      "text/plain": [
       "             base  t5 t5_finetuned\n",
       "base            0  81           59\n",
       "t5              6   0           23\n",
       "t5_finetuned    5  44            0"
      ]
     },
     "execution_count": 68,
     "metadata": {},
     "output_type": "execute_result"
    }
   ],
   "source": [
    "difference = pd.DataFrame(columns=all_movies.keys(), index=all_movies.keys()) # таблица для сравнения числа уникальных записей о мультфильмах\n",
    "for var1 in all_movies.keys(): # идём по всем вариантам суммаризации\n",
    "    for var2 in all_movies.keys(): # идём по всем вариантам суммаризации\n",
    "        difference[var2][var1] = len(all_movies_titles[var1] - all_movies_titles[var2]) # вычитаем set-ы из названий мультфильмов\n",
    "difference # (*в строке x на N больше записей, чем в столбце y*)"
   ]
  },
  {
   "cell_type": "markdown",
   "metadata": {},
   "source": [
    "Можно заметить, что модели всё же смогли сконвертировать описание некоторых мультфильмов, которых нет при обработке без суммаризации."
   ]
  },
  {
   "cell_type": "code",
   "execution_count": 77,
   "metadata": {},
   "outputs": [
    {
     "data": {
      "text/plain": [
       "{'Крылья, ноги и хвосты',\n",
       " 'Летучий корабль',\n",
       " 'Ральф против интернета',\n",
       " 'Тайная жизнь домашних животных 2',\n",
       " 'Три кота и море приключений',\n",
       " 'Холодное торжество'}"
      ]
     },
     "execution_count": 77,
     "metadata": {},
     "output_type": "execute_result"
    }
   ],
   "source": [
    "all_movies_titles[\"t5\"] - all_movies_titles[\"base\"] # пример мультфильмов, что есть в датасете с суммаризацией (t5), но нет в датасете без суммаризации"
   ]
  },
  {
   "cell_type": "code",
   "execution_count": 79,
   "metadata": {},
   "outputs": [
    {
     "name": "stdout",
     "output_type": "stream",
     "text": [
      "Среднее число эмодзи при описании 'base': 4.6635071090047395\n",
      "Среднее число эмодзи при описании 't5': 2.889705882352941\n",
      "Среднее число эмодзи при описании 't5_finetuned': 3.210191082802548\n"
     ]
    }
   ],
   "source": [
    "for var in all_movies.keys(): # идём по всем вариантам суммаризации\n",
    "    emojis_count = 0 # число эмодзи в датасете\n",
    "    for movie in all_movies[var]: # идём по всем мультфильмам\n",
    "        emojis_count += len(movie[\"emojis\"]) # увеличиваем счётчик эмодзи на кол-во их у мультфильма\n",
    "    print(f\"Среднее число эмодзи при описании '{var}': {emojis_count/len(all_movies[var])}\") # выводи мреднее число эмодзи"
   ]
  },
  {
   "cell_type": "markdown",
   "metadata": {},
   "source": [
    "## Объединим всё получившееся в один, увеличенный датасет"
   ]
  },
  {
   "cell_type": "code",
   "execution_count": 95,
   "metadata": {},
   "outputs": [
    {
     "name": "stdout",
     "output_type": "stream",
     "text": [
      "['😓', 0.7736791700046068, 'холодный'] Добавлен к Холодное сердце от t5\n",
      "['💕', 0.8162948578995982, 'сердце'] Добавлен к Холодное сердце от t5\n",
      "['🫂', 0.8867862708936864, 'человек'] Добавлен к Человек-паук: Через вселенные от t5\n",
      "['🙃', 0.8680330305759247, 'вверх'] Добавлен к Вверх от t5\n",
      "['🚱', 0.920565345794149, 'вода'] Добавлен к Райя и последний дракон от t5\n",
      "['🫂', 0.8867862708936864, 'человек'] Добавлен к Райя и последний дракон от t5\n",
      "['🫂', 0.8867862708936864, 'человек'] Добавлен к Монстры на каникулах от t5\n",
      "['😓', 0.7736791700046068, 'холодный'] Добавлен к Холодное сердце 2 от t5\n",
      "['💕', 0.8162948578995982, 'сердце'] Добавлен к Холодное сердце 2 от t5\n",
      "['🐍', 0.9999999999999993, 'змея'] Добавлен к Алеша Попович и Тугарин Змей от t5\n",
      "['📚', 0.9999999999999997, 'книга'] Добавлен к Мулан от t5\n",
      "['🫂', 0.8867862708936864, 'человек'] Добавлен к Хранители снов от t5\n",
      "['🫂', 0.8867862708936864, 'человек'] Добавлен к Бобик в гостях у Барбоса от t5\n",
      "['💕', 0.8162948578995982, 'сердце'] Добавлен к Храбрая сердцем от t5\n",
      "['\\U0001f9cc', 0.7708527513561626, 'орк'] Добавлен к Шрэк навсегда от t5\n",
      "['🚶\\u200d♀️', 0.7770376569527635, 'идти'] Добавлен к Каникулы в Простоквашино от t5\n",
      "['⏳', 0.8361775900385894, 'пойти'] Добавлен к Тачки 3 от t5\n",
      "['㊙️', 0.9999999999999998, 'секрет'] Добавлен к Барбоскины на даче от t5\n",
      "['📚', 0.9999999999999997, 'книга'] Добавлен к Семейка Крудс: Новоселье от t5\n",
      "['🫂', 0.8867862708936864, 'человек'] Добавлен к Монстры на каникулах 2 от t5\n",
      "['👾', 0.7876514431801345, 'монстр'] Добавлен к Монстры на каникулах 2 от t5\n",
      "['👅', 0.9999999999999997, 'язык'] Добавлен к Три богатыря на дальних берегах от t5\n",
      "['🦸', 0.9999999999999996, 'супергерой'] Добавлен к Леди Баг и Супер-Кот: Пробуждение силы от t5\n",
      "['🫂', 0.8867862708936864, 'человек'] Добавлен к Полный расколбас от t5\n",
      "['👣', 0.9999999999999998, 'след'] Добавлен к По следам бременских музыкантов от t5\n",
      "['🫂', 0.8867862708936864, 'человек'] Добавлен к Маугли от t5\n",
      "['🕛', 0.8464481737780278, 'двенадцать'] Добавлен к Двенадцать месяцев от t5\n",
      "['🈷️', 0.9999999999999993, 'месяц'] Добавлен к Двенадцать месяцев от t5\n",
      "['🫂', 0.8867862708936864, 'человек'] Добавлен к Похождения императора от t5\n",
      "['🌨️', 0.9999999999999999, 'снег'] Добавлен к Падал прошлогодний снег от t5\n",
      "['🫂', 0.8867862708936864, 'человек'] Добавлен к Человек-паук: Паутина вселенных от t5\n",
      "['🕸️', 0.999999999999999, 'паутина'] Добавлен к Человек-паук: Паутина вселенных от t5\n",
      "['🙊', 0.7654190338459462, 'сказать'] Добавлен к Маша и Медведь: Скажите «Ой!» от t5\n",
      "['🕖', 0.849498624451356, 'семь'] Добавлен к Белоснежка и семь гномов от t5\n",
      "['👃', 1.0, 'нос'] Добавлен к Карлик Нос от t5\n",
      "['🫂', 0.8867862708936864, 'человек'] Добавлен к Сезон охоты от t5\n",
      "['🫂', 0.8867862708936864, 'человек'] Добавлен к Бемби от t5\n",
      "['🏙️', 0.8100990559791202, 'ночной'] Добавлен к Легенды ночных стражей от t5\n",
      "['👅', 0.9999999999999997, 'язык'] Добавлен к Покахонтас от t5\n",
      "['📚', 0.9999999999999997, 'книга'] Добавлен к Покахонтас от t5\n",
      "['😴', 0.9999999999999997, 'спать'] Добавлен к Спящая красавица от t5\n",
      "['🙅', 0.8148693063220843, 'против'] Добавлен к Монстры против пришельцев от t5\n",
      "['🫂', 0.8867862708936864, 'человек'] Добавлен к Монстры на каникулах: Трансформания от t5\n",
      "['🫂', 0.8867862708936864, 'человек'] Добавлен к Тарзан от t5\n",
      "['🚱', 0.920565345794149, 'вода'] Добавлен к Элементарно от t5\n",
      "['❤️\\u200d🔥', 0.7752803191607398, 'гореть'] Добавлен к Семейка Аддамс: Горящий тур от t5\n",
      "['🟦', 0.8279521347394104, 'синий'] Добавлен к В синем море, в белой пене... от t5\n",
      "['🏳️', 0.8512833399715798, 'белый'] Добавлен к В синем море, в белой пене... от t5\n",
      "['🫂', 0.8867862708936864, 'человек'] Добавлен к ВАЛЛ·И от t5_finetuned\n",
      "['🫂', 0.8867862708936864, 'человек'] Добавлен к Труп невесты от t5_finetuned\n",
      "['🙅', 0.8148693063220843, 'против'] Добавлен к Фиксики против кработов от t5_finetuned\n",
      "['🫂', 0.8867862708936864, 'человек'] Добавлен к Кощей. Начало от t5_finetuned\n",
      "['🏇', 0.9999999999999998, 'скачок'] Добавлен к Конь Юлий и большие скачки от t5_finetuned\n",
      "['🫂', 0.8867862708936864, 'человек'] Добавлен к Королевский корги от t5_finetuned\n",
      "['🫂', 0.8867862708936864, 'человек'] Добавлен к Кошмар перед Рождеством от t5_finetuned\n",
      "['🏠', 0.999999999999999, 'дом'] Добавлен к Дом от t5_finetuned\n",
      "['🫂', 0.8867862708936864, 'человек'] Добавлен к Спирит: Душа прерий от t5_finetuned\n",
      "['👹', 0.8467088614805364, 'чудище'] Добавлен к Бука. Моё любимое чудище от t5_finetuned\n",
      "['🫂', 0.8867862708936864, 'человек'] Добавлен к Песнь моря от t5_finetuned\n",
      "['😳', 0.9999999999999994, 'краснеть'] Добавлен к Я краснею от t5_finetuned\n",
      "['🫂', 0.8867862708936864, 'человек'] Добавлен к Легенды ночных стражей от t5_finetuned\n",
      "['💕', 0.8162948578995982, 'сердце'] Добавлен к Айнбо. Сердце Амазонии от t5_finetuned\n",
      "['🐦', 0.9999999999999994, 'птица'] Добавлен к Рио 2 от t5_finetuned\n",
      "['🍨', 0.9999999999999994, 'мороженое'] Добавлен к Дед Мороз и лето от t5_finetuned\n",
      "['🫂', 0.8867862708936864, 'человек'] Добавлен к Лесная братва от t5_finetuned\n"
     ]
    }
   ],
   "source": [
    "movies_comb = [] # список под объединение данных\n",
    "movies_comb_titles = {} # словарь для названий мультфильмов в movies_comb, для упрощения итерации\n",
    "for var in all_movies.keys(): # идём по всем вариантам суммаризации\n",
    "    for movie in all_movies[var]: # идём по всем мультфильмам\n",
    "        if movie[\"title\"] not in movies_comb_titles.keys(): # если впервые видим такой мультфильм\n",
    "            movies_comb_titles[movie[\"title\"]] = len(movies_comb) # запоминаем номер мультфильма в комбинации\n",
    "            movies_comb.append(movie) # добавляем данные о мультфильме\n",
    "            del movies_comb[-1][\"tokens\"] # удаляем запись о токенах, так как она специфична для варианта суммаризации\n",
    "            del movies_comb[-1][\"vectors\"] # удаляем запись о векторах, так как она специфична для варианта суммаризации\n",
    "        else: # если уже есть запись о мультфильме\n",
    "            for e in movie[\"emojis\"]: # идём по эмодзи в рассматриваемом мультфильме\n",
    "                if e[0] not in [e_[0] for e_ in movies_comb[movies_comb_titles[movie[\"title\"]]][\"emojis\"]]: # проверяем, нет ли данной эмодзи у мультфильма\n",
    "                    movies_comb[movies_comb_titles[movie[\"title\"]]][\"emojis\"].append(e) # добавляем эмодзи\n",
    "                    print(f\"{e} Добавлен к {movie['title']} от {var}\" )"
   ]
  },
  {
   "cell_type": "code",
   "execution_count": 92,
   "metadata": {},
   "outputs": [],
   "source": [
    "with open('./data/movies_comb_emoj.json', 'w') as f: # открытие файла для записи ('w')\n",
    "    json.dump(movies_comb, f) # сохраняем в него данные о фильмах"
   ]
  },
  {
   "cell_type": "markdown",
   "metadata": {},
   "source": [
    "**Остаётся лишь запустить бота в \"scripts/run_bot.py\".**"
   ]
  }
 ],
 "metadata": {
  "kernelspec": {
   "display_name": "gpu",
   "language": "python",
   "name": "python3"
  },
  "language_info": {
   "codemirror_mode": {
    "name": "ipython",
    "version": 3
   },
   "file_extension": ".py",
   "mimetype": "text/x-python",
   "name": "python",
   "nbconvert_exporter": "python",
   "pygments_lexer": "ipython3",
   "version": "3.9.12"
  }
 },
 "nbformat": 4,
 "nbformat_minor": 2
}
